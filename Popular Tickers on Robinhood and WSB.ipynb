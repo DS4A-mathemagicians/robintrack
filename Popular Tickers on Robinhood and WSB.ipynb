{
 "cells": [
  {
   "cell_type": "markdown",
   "metadata": {},
   "source": [
    "## Compairng Top tickers on Robinhood v. WSB"
   ]
  },
  {
   "cell_type": "code",
   "execution_count": 108,
   "metadata": {},
   "outputs": [],
   "source": [
    "import pandas as pd\n",
    "import seaborn as sns\n",
    "import os \n",
    "import matplotlib.pyplot as plt\n",
    "import numpy as np"
   ]
  },
  {
   "cell_type": "code",
   "execution_count": 9,
   "metadata": {},
   "outputs": [],
   "source": [
    "cwd = os.getcwd()\n",
    "rb_popular_tickers = pd.read_csv(cwd + '/data/popular_tickers_rb.csv', index_col = 0)"
   ]
  },
  {
   "cell_type": "code",
   "execution_count": 10,
   "metadata": {},
   "outputs": [
    {
     "data": {
      "text/html": [
       "<div>\n",
       "<style scoped>\n",
       "    .dataframe tbody tr th:only-of-type {\n",
       "        vertical-align: middle;\n",
       "    }\n",
       "\n",
       "    .dataframe tbody tr th {\n",
       "        vertical-align: top;\n",
       "    }\n",
       "\n",
       "    .dataframe thead th {\n",
       "        text-align: right;\n",
       "    }\n",
       "</style>\n",
       "<table border=\"1\" class=\"dataframe\">\n",
       "  <thead>\n",
       "    <tr style=\"text-align: right;\">\n",
       "      <th></th>\n",
       "      <th>ticker</th>\n",
       "      <th>sector</th>\n",
       "      <th>industry</th>\n",
       "      <th>popular_on</th>\n",
       "      <th>value</th>\n",
       "      <th>timestamp</th>\n",
       "      <th>date</th>\n",
       "    </tr>\n",
       "  </thead>\n",
       "  <tbody>\n",
       "    <tr>\n",
       "      <th>0</th>\n",
       "      <td>F</td>\n",
       "      <td>Capital Goods</td>\n",
       "      <td>Auto Manufacturing</td>\n",
       "      <td>Robinhood</td>\n",
       "      <td>911470.0</td>\n",
       "      <td>2020-08-13 21:00:00</td>\n",
       "      <td>2020-08-13</td>\n",
       "    </tr>\n",
       "    <tr>\n",
       "      <th>1</th>\n",
       "      <td>GE</td>\n",
       "      <td>Energy</td>\n",
       "      <td>Consumer Electronics/Appliances</td>\n",
       "      <td>Robinhood</td>\n",
       "      <td>856899.0</td>\n",
       "      <td>2020-08-13 21:00:00</td>\n",
       "      <td>2020-08-13</td>\n",
       "    </tr>\n",
       "    <tr>\n",
       "      <th>2</th>\n",
       "      <td>AAPL</td>\n",
       "      <td>Technology</td>\n",
       "      <td>Computer Manufacturing</td>\n",
       "      <td>Robinhood</td>\n",
       "      <td>730774.0</td>\n",
       "      <td>2020-08-13 21:00:00</td>\n",
       "      <td>2020-08-13</td>\n",
       "    </tr>\n",
       "    <tr>\n",
       "      <th>3</th>\n",
       "      <td>MSFT</td>\n",
       "      <td>Technology</td>\n",
       "      <td>Computer Software: Prepackaged Software</td>\n",
       "      <td>Robinhood</td>\n",
       "      <td>653838.0</td>\n",
       "      <td>2020-08-13 21:00:00</td>\n",
       "      <td>2020-08-13</td>\n",
       "    </tr>\n",
       "    <tr>\n",
       "      <th>4</th>\n",
       "      <td>AAL</td>\n",
       "      <td>Transportation</td>\n",
       "      <td>Air Freight/Delivery Services</td>\n",
       "      <td>Robinhood</td>\n",
       "      <td>637705.0</td>\n",
       "      <td>2020-08-13 21:00:00</td>\n",
       "      <td>2020-08-13</td>\n",
       "    </tr>\n",
       "    <tr>\n",
       "      <th>5</th>\n",
       "      <td>DIS</td>\n",
       "      <td>Consumer Services</td>\n",
       "      <td>Services-Misc. Amusement &amp; Recreation</td>\n",
       "      <td>Robinhood</td>\n",
       "      <td>598367.0</td>\n",
       "      <td>2020-08-13 21:00:00</td>\n",
       "      <td>2020-08-13</td>\n",
       "    </tr>\n",
       "    <tr>\n",
       "      <th>6</th>\n",
       "      <td>DAL</td>\n",
       "      <td>Transportation</td>\n",
       "      <td>Air Freight/Delivery Services</td>\n",
       "      <td>Robinhood</td>\n",
       "      <td>572679.0</td>\n",
       "      <td>2020-08-13 21:00:00</td>\n",
       "      <td>2020-08-13</td>\n",
       "    </tr>\n",
       "    <tr>\n",
       "      <th>7</th>\n",
       "      <td>TSLA</td>\n",
       "      <td>Capital Goods</td>\n",
       "      <td>Auto Manufacturing</td>\n",
       "      <td>Robinhood</td>\n",
       "      <td>563621.0</td>\n",
       "      <td>2020-08-13 21:00:00</td>\n",
       "      <td>2020-08-13</td>\n",
       "    </tr>\n",
       "    <tr>\n",
       "      <th>8</th>\n",
       "      <td>CCL</td>\n",
       "      <td>Consumer Services</td>\n",
       "      <td>Marine Transportation</td>\n",
       "      <td>Robinhood</td>\n",
       "      <td>481631.0</td>\n",
       "      <td>2020-08-13 21:00:00</td>\n",
       "      <td>2020-08-13</td>\n",
       "    </tr>\n",
       "    <tr>\n",
       "      <th>9</th>\n",
       "      <td>GPRO</td>\n",
       "      <td>Miscellaneous</td>\n",
       "      <td>Industrial Machinery/Components</td>\n",
       "      <td>Robinhood</td>\n",
       "      <td>475051.0</td>\n",
       "      <td>2020-08-13 21:00:00</td>\n",
       "      <td>2020-08-13</td>\n",
       "    </tr>\n",
       "    <tr>\n",
       "      <th>10</th>\n",
       "      <td>AMZN</td>\n",
       "      <td>Consumer Services</td>\n",
       "      <td>Catalog/Specialty Distribution</td>\n",
       "      <td>Robinhood</td>\n",
       "      <td>427973.0</td>\n",
       "      <td>2020-08-13 21:00:00</td>\n",
       "      <td>2020-08-13</td>\n",
       "    </tr>\n",
       "    <tr>\n",
       "      <th>11</th>\n",
       "      <td>PLUG</td>\n",
       "      <td>Energy</td>\n",
       "      <td>Industrial Machinery/Components</td>\n",
       "      <td>Robinhood</td>\n",
       "      <td>387421.0</td>\n",
       "      <td>2020-08-13 21:00:00</td>\n",
       "      <td>2020-08-13</td>\n",
       "    </tr>\n",
       "    <tr>\n",
       "      <th>12</th>\n",
       "      <td>BAC</td>\n",
       "      <td>Finance</td>\n",
       "      <td>Major Banks</td>\n",
       "      <td>Robinhood</td>\n",
       "      <td>360009.0</td>\n",
       "      <td>2020-08-13 21:00:00</td>\n",
       "      <td>2020-08-13</td>\n",
       "    </tr>\n",
       "    <tr>\n",
       "      <th>13</th>\n",
       "      <td>NCLH</td>\n",
       "      <td>Consumer Services</td>\n",
       "      <td>Marine Transportation</td>\n",
       "      <td>Robinhood</td>\n",
       "      <td>353071.0</td>\n",
       "      <td>2020-08-13 21:00:00</td>\n",
       "      <td>2020-08-13</td>\n",
       "    </tr>\n",
       "    <tr>\n",
       "      <th>14</th>\n",
       "      <td>SNAP</td>\n",
       "      <td>Technology</td>\n",
       "      <td>Computer Software: Programming, Data Processing</td>\n",
       "      <td>Robinhood</td>\n",
       "      <td>350278.0</td>\n",
       "      <td>2020-08-13 21:00:00</td>\n",
       "      <td>2020-08-13</td>\n",
       "    </tr>\n",
       "    <tr>\n",
       "      <th>15</th>\n",
       "      <td>FIT</td>\n",
       "      <td>Technology</td>\n",
       "      <td>Computer Manufacturing</td>\n",
       "      <td>Robinhood</td>\n",
       "      <td>323346.0</td>\n",
       "      <td>2020-08-13 21:00:00</td>\n",
       "      <td>2020-08-13</td>\n",
       "    </tr>\n",
       "    <tr>\n",
       "      <th>16</th>\n",
       "      <td>BA</td>\n",
       "      <td>Capital Goods</td>\n",
       "      <td>Aerospace</td>\n",
       "      <td>Robinhood</td>\n",
       "      <td>320552.0</td>\n",
       "      <td>2020-08-13 21:00:00</td>\n",
       "      <td>2020-08-13</td>\n",
       "    </tr>\n",
       "    <tr>\n",
       "      <th>17</th>\n",
       "      <td>UAL</td>\n",
       "      <td>Transportation</td>\n",
       "      <td>Air Freight/Delivery Services</td>\n",
       "      <td>Robinhood</td>\n",
       "      <td>311457.0</td>\n",
       "      <td>2020-08-13 21:00:00</td>\n",
       "      <td>2020-08-13</td>\n",
       "    </tr>\n",
       "    <tr>\n",
       "      <th>18</th>\n",
       "      <td>AMD</td>\n",
       "      <td>Technology</td>\n",
       "      <td>Semiconductors</td>\n",
       "      <td>Robinhood</td>\n",
       "      <td>264849.0</td>\n",
       "      <td>2020-08-13 21:00:00</td>\n",
       "      <td>2020-08-13</td>\n",
       "    </tr>\n",
       "    <tr>\n",
       "      <th>19</th>\n",
       "      <td>BABA</td>\n",
       "      <td>Miscellaneous</td>\n",
       "      <td>Business Services</td>\n",
       "      <td>Robinhood</td>\n",
       "      <td>255110.0</td>\n",
       "      <td>2020-08-13 21:00:00</td>\n",
       "      <td>2020-08-13</td>\n",
       "    </tr>\n",
       "    <tr>\n",
       "      <th>20</th>\n",
       "      <td>GE</td>\n",
       "      <td>Energy</td>\n",
       "      <td>Consumer Electronics/Appliances</td>\n",
       "      <td>Robinhood</td>\n",
       "      <td>277517.0</td>\n",
       "      <td>2019-08-13 12:00:00</td>\n",
       "      <td>2019-08-13</td>\n",
       "    </tr>\n",
       "    <tr>\n",
       "      <th>21</th>\n",
       "      <td>F</td>\n",
       "      <td>Capital Goods</td>\n",
       "      <td>Auto Manufacturing</td>\n",
       "      <td>Robinhood</td>\n",
       "      <td>275901.0</td>\n",
       "      <td>2019-08-13 12:00:00</td>\n",
       "      <td>2019-08-13</td>\n",
       "    </tr>\n",
       "    <tr>\n",
       "      <th>22</th>\n",
       "      <td>MSFT</td>\n",
       "      <td>Technology</td>\n",
       "      <td>Computer Software: Prepackaged Software</td>\n",
       "      <td>Robinhood</td>\n",
       "      <td>221661.0</td>\n",
       "      <td>2019-08-13 12:00:00</td>\n",
       "      <td>2019-08-13</td>\n",
       "    </tr>\n",
       "    <tr>\n",
       "      <th>23</th>\n",
       "      <td>AAPL</td>\n",
       "      <td>Technology</td>\n",
       "      <td>Computer Manufacturing</td>\n",
       "      <td>Robinhood</td>\n",
       "      <td>219246.0</td>\n",
       "      <td>2019-08-13 12:00:00</td>\n",
       "      <td>2019-08-13</td>\n",
       "    </tr>\n",
       "    <tr>\n",
       "      <th>24</th>\n",
       "      <td>FIT</td>\n",
       "      <td>Technology</td>\n",
       "      <td>Computer Manufacturing</td>\n",
       "      <td>Robinhood</td>\n",
       "      <td>207687.0</td>\n",
       "      <td>2019-08-13 12:00:00</td>\n",
       "      <td>2019-08-13</td>\n",
       "    </tr>\n",
       "    <tr>\n",
       "      <th>25</th>\n",
       "      <td>GPRO</td>\n",
       "      <td>Miscellaneous</td>\n",
       "      <td>Industrial Machinery/Components</td>\n",
       "      <td>Robinhood</td>\n",
       "      <td>187227.0</td>\n",
       "      <td>2019-08-13 12:00:00</td>\n",
       "      <td>2019-08-13</td>\n",
       "    </tr>\n",
       "    <tr>\n",
       "      <th>26</th>\n",
       "      <td>CRON</td>\n",
       "      <td>Consumer Durables</td>\n",
       "      <td>Specialty Chemicals</td>\n",
       "      <td>Robinhood</td>\n",
       "      <td>183665.0</td>\n",
       "      <td>2019-08-13 12:00:00</td>\n",
       "      <td>2019-08-13</td>\n",
       "    </tr>\n",
       "    <tr>\n",
       "      <th>27</th>\n",
       "      <td>AMD</td>\n",
       "      <td>Technology</td>\n",
       "      <td>Semiconductors</td>\n",
       "      <td>Robinhood</td>\n",
       "      <td>173452.0</td>\n",
       "      <td>2019-08-13 12:00:00</td>\n",
       "      <td>2019-08-13</td>\n",
       "    </tr>\n",
       "    <tr>\n",
       "      <th>28</th>\n",
       "      <td>TSLA</td>\n",
       "      <td>Capital Goods</td>\n",
       "      <td>Auto Manufacturing</td>\n",
       "      <td>Robinhood</td>\n",
       "      <td>162917.0</td>\n",
       "      <td>2019-08-13 12:00:00</td>\n",
       "      <td>2019-08-13</td>\n",
       "    </tr>\n",
       "    <tr>\n",
       "      <th>29</th>\n",
       "      <td>DIS</td>\n",
       "      <td>Consumer Services</td>\n",
       "      <td>Services-Misc. Amusement &amp; Recreation</td>\n",
       "      <td>Robinhood</td>\n",
       "      <td>160682.0</td>\n",
       "      <td>2019-08-13 12:00:00</td>\n",
       "      <td>2019-08-13</td>\n",
       "    </tr>\n",
       "    <tr>\n",
       "      <th>30</th>\n",
       "      <td>SNAP</td>\n",
       "      <td>Technology</td>\n",
       "      <td>Computer Software: Programming, Data Processing</td>\n",
       "      <td>Robinhood</td>\n",
       "      <td>155946.0</td>\n",
       "      <td>2019-08-13 12:00:00</td>\n",
       "      <td>2019-08-13</td>\n",
       "    </tr>\n",
       "    <tr>\n",
       "      <th>31</th>\n",
       "      <td>FB</td>\n",
       "      <td>Technology</td>\n",
       "      <td>Computer Software: Programming, Data Processing</td>\n",
       "      <td>Robinhood</td>\n",
       "      <td>138520.0</td>\n",
       "      <td>2019-08-13 12:00:00</td>\n",
       "      <td>2019-08-13</td>\n",
       "    </tr>\n",
       "    <tr>\n",
       "      <th>32</th>\n",
       "      <td>BABA</td>\n",
       "      <td>Miscellaneous</td>\n",
       "      <td>Business Services</td>\n",
       "      <td>Robinhood</td>\n",
       "      <td>129036.0</td>\n",
       "      <td>2019-08-13 12:00:00</td>\n",
       "      <td>2019-08-13</td>\n",
       "    </tr>\n",
       "    <tr>\n",
       "      <th>33</th>\n",
       "      <td>ZNGA</td>\n",
       "      <td>Technology</td>\n",
       "      <td>EDP Services</td>\n",
       "      <td>Robinhood</td>\n",
       "      <td>121543.0</td>\n",
       "      <td>2019-08-13 12:00:00</td>\n",
       "      <td>2019-08-13</td>\n",
       "    </tr>\n",
       "    <tr>\n",
       "      <th>34</th>\n",
       "      <td>PLUG</td>\n",
       "      <td>Energy</td>\n",
       "      <td>Industrial Machinery/Components</td>\n",
       "      <td>Robinhood</td>\n",
       "      <td>119120.0</td>\n",
       "      <td>2019-08-13 12:00:00</td>\n",
       "      <td>2019-08-13</td>\n",
       "    </tr>\n",
       "    <tr>\n",
       "      <th>35</th>\n",
       "      <td>AMZN</td>\n",
       "      <td>Consumer Services</td>\n",
       "      <td>Catalog/Specialty Distribution</td>\n",
       "      <td>Robinhood</td>\n",
       "      <td>116258.0</td>\n",
       "      <td>2019-08-13 12:00:00</td>\n",
       "      <td>2019-08-13</td>\n",
       "    </tr>\n",
       "    <tr>\n",
       "      <th>36</th>\n",
       "      <td>BAC</td>\n",
       "      <td>Finance</td>\n",
       "      <td>Major Banks</td>\n",
       "      <td>Robinhood</td>\n",
       "      <td>105959.0</td>\n",
       "      <td>2019-08-13 12:00:00</td>\n",
       "      <td>2019-08-13</td>\n",
       "    </tr>\n",
       "    <tr>\n",
       "      <th>37</th>\n",
       "      <td>NFLX</td>\n",
       "      <td>Consumer Services</td>\n",
       "      <td>Consumer Electronics/Video Chains</td>\n",
       "      <td>Robinhood</td>\n",
       "      <td>104815.0</td>\n",
       "      <td>2019-08-13 12:00:00</td>\n",
       "      <td>2019-08-13</td>\n",
       "    </tr>\n",
       "    <tr>\n",
       "      <th>38</th>\n",
       "      <td>TWTR</td>\n",
       "      <td>Technology</td>\n",
       "      <td>Computer Software: Programming, Data Processing</td>\n",
       "      <td>Robinhood</td>\n",
       "      <td>100282.0</td>\n",
       "      <td>2019-08-13 12:00:00</td>\n",
       "      <td>2019-08-13</td>\n",
       "    </tr>\n",
       "    <tr>\n",
       "      <th>39</th>\n",
       "      <td>NVDA</td>\n",
       "      <td>Technology</td>\n",
       "      <td>Semiconductors</td>\n",
       "      <td>Robinhood</td>\n",
       "      <td>100227.0</td>\n",
       "      <td>2019-08-13 12:00:00</td>\n",
       "      <td>2019-08-13</td>\n",
       "    </tr>\n",
       "  </tbody>\n",
       "</table>\n",
       "</div>"
      ],
      "text/plain": [
       "   ticker             sector                                         industry  \\\n",
       "0       F      Capital Goods                               Auto Manufacturing   \n",
       "1      GE             Energy                  Consumer Electronics/Appliances   \n",
       "2    AAPL         Technology                           Computer Manufacturing   \n",
       "3    MSFT         Technology          Computer Software: Prepackaged Software   \n",
       "4     AAL     Transportation                    Air Freight/Delivery Services   \n",
       "5     DIS  Consumer Services            Services-Misc. Amusement & Recreation   \n",
       "6     DAL     Transportation                    Air Freight/Delivery Services   \n",
       "7    TSLA      Capital Goods                               Auto Manufacturing   \n",
       "8     CCL  Consumer Services                            Marine Transportation   \n",
       "9    GPRO      Miscellaneous                  Industrial Machinery/Components   \n",
       "10   AMZN  Consumer Services                   Catalog/Specialty Distribution   \n",
       "11   PLUG             Energy                  Industrial Machinery/Components   \n",
       "12    BAC            Finance                                      Major Banks   \n",
       "13   NCLH  Consumer Services                            Marine Transportation   \n",
       "14   SNAP         Technology  Computer Software: Programming, Data Processing   \n",
       "15    FIT         Technology                           Computer Manufacturing   \n",
       "16     BA      Capital Goods                                        Aerospace   \n",
       "17    UAL     Transportation                    Air Freight/Delivery Services   \n",
       "18    AMD         Technology                                   Semiconductors   \n",
       "19   BABA      Miscellaneous                                Business Services   \n",
       "20     GE             Energy                  Consumer Electronics/Appliances   \n",
       "21      F      Capital Goods                               Auto Manufacturing   \n",
       "22   MSFT         Technology          Computer Software: Prepackaged Software   \n",
       "23   AAPL         Technology                           Computer Manufacturing   \n",
       "24    FIT         Technology                           Computer Manufacturing   \n",
       "25   GPRO      Miscellaneous                  Industrial Machinery/Components   \n",
       "26   CRON  Consumer Durables                              Specialty Chemicals   \n",
       "27    AMD         Technology                                   Semiconductors   \n",
       "28   TSLA      Capital Goods                               Auto Manufacturing   \n",
       "29    DIS  Consumer Services            Services-Misc. Amusement & Recreation   \n",
       "30   SNAP         Technology  Computer Software: Programming, Data Processing   \n",
       "31     FB         Technology  Computer Software: Programming, Data Processing   \n",
       "32   BABA      Miscellaneous                                Business Services   \n",
       "33   ZNGA         Technology                                     EDP Services   \n",
       "34   PLUG             Energy                  Industrial Machinery/Components   \n",
       "35   AMZN  Consumer Services                   Catalog/Specialty Distribution   \n",
       "36    BAC            Finance                                      Major Banks   \n",
       "37   NFLX  Consumer Services                Consumer Electronics/Video Chains   \n",
       "38   TWTR         Technology  Computer Software: Programming, Data Processing   \n",
       "39   NVDA         Technology                                   Semiconductors   \n",
       "\n",
       "   popular_on     value            timestamp        date  \n",
       "0   Robinhood  911470.0  2020-08-13 21:00:00  2020-08-13  \n",
       "1   Robinhood  856899.0  2020-08-13 21:00:00  2020-08-13  \n",
       "2   Robinhood  730774.0  2020-08-13 21:00:00  2020-08-13  \n",
       "3   Robinhood  653838.0  2020-08-13 21:00:00  2020-08-13  \n",
       "4   Robinhood  637705.0  2020-08-13 21:00:00  2020-08-13  \n",
       "5   Robinhood  598367.0  2020-08-13 21:00:00  2020-08-13  \n",
       "6   Robinhood  572679.0  2020-08-13 21:00:00  2020-08-13  \n",
       "7   Robinhood  563621.0  2020-08-13 21:00:00  2020-08-13  \n",
       "8   Robinhood  481631.0  2020-08-13 21:00:00  2020-08-13  \n",
       "9   Robinhood  475051.0  2020-08-13 21:00:00  2020-08-13  \n",
       "10  Robinhood  427973.0  2020-08-13 21:00:00  2020-08-13  \n",
       "11  Robinhood  387421.0  2020-08-13 21:00:00  2020-08-13  \n",
       "12  Robinhood  360009.0  2020-08-13 21:00:00  2020-08-13  \n",
       "13  Robinhood  353071.0  2020-08-13 21:00:00  2020-08-13  \n",
       "14  Robinhood  350278.0  2020-08-13 21:00:00  2020-08-13  \n",
       "15  Robinhood  323346.0  2020-08-13 21:00:00  2020-08-13  \n",
       "16  Robinhood  320552.0  2020-08-13 21:00:00  2020-08-13  \n",
       "17  Robinhood  311457.0  2020-08-13 21:00:00  2020-08-13  \n",
       "18  Robinhood  264849.0  2020-08-13 21:00:00  2020-08-13  \n",
       "19  Robinhood  255110.0  2020-08-13 21:00:00  2020-08-13  \n",
       "20  Robinhood  277517.0  2019-08-13 12:00:00  2019-08-13  \n",
       "21  Robinhood  275901.0  2019-08-13 12:00:00  2019-08-13  \n",
       "22  Robinhood  221661.0  2019-08-13 12:00:00  2019-08-13  \n",
       "23  Robinhood  219246.0  2019-08-13 12:00:00  2019-08-13  \n",
       "24  Robinhood  207687.0  2019-08-13 12:00:00  2019-08-13  \n",
       "25  Robinhood  187227.0  2019-08-13 12:00:00  2019-08-13  \n",
       "26  Robinhood  183665.0  2019-08-13 12:00:00  2019-08-13  \n",
       "27  Robinhood  173452.0  2019-08-13 12:00:00  2019-08-13  \n",
       "28  Robinhood  162917.0  2019-08-13 12:00:00  2019-08-13  \n",
       "29  Robinhood  160682.0  2019-08-13 12:00:00  2019-08-13  \n",
       "30  Robinhood  155946.0  2019-08-13 12:00:00  2019-08-13  \n",
       "31  Robinhood  138520.0  2019-08-13 12:00:00  2019-08-13  \n",
       "32  Robinhood  129036.0  2019-08-13 12:00:00  2019-08-13  \n",
       "33  Robinhood  121543.0  2019-08-13 12:00:00  2019-08-13  \n",
       "34  Robinhood  119120.0  2019-08-13 12:00:00  2019-08-13  \n",
       "35  Robinhood  116258.0  2019-08-13 12:00:00  2019-08-13  \n",
       "36  Robinhood  105959.0  2019-08-13 12:00:00  2019-08-13  \n",
       "37  Robinhood  104815.0  2019-08-13 12:00:00  2019-08-13  \n",
       "38  Robinhood  100282.0  2019-08-13 12:00:00  2019-08-13  \n",
       "39  Robinhood  100227.0  2019-08-13 12:00:00  2019-08-13  "
      ]
     },
     "execution_count": 10,
     "metadata": {},
     "output_type": "execute_result"
    }
   ],
   "source": [
    "rb_popular_tickers"
   ]
  },
  {
   "cell_type": "code",
   "execution_count": 15,
   "metadata": {},
   "outputs": [],
   "source": [
    "rb_popular_tickers.sort_values(by = ['sector','date'], axis = 0, inplace = True)"
   ]
  },
  {
   "cell_type": "code",
   "execution_count": 30,
   "metadata": {},
   "outputs": [
    {
     "data": {
      "image/png": "[encoded data removed]",
      "text/plain": [
       "<Figure size 576x432 with 1 Axes>"
      ]
     },
     "metadata": {
      "needs_background": "light"
     },
     "output_type": "display_data"
    }
   ],
   "source": [
    "plt.figure(figsize = (8, 6))\n",
    "sns.countplot(y = 'sector', hue = 'date', data = rb_popular_tickers)\n",
    "plt.legend(loc = 1)\n",
    "plt.title(\"Popular sectors on Robinhood before v. after covid\")\n",
    "plt.savefig(cwd + \"/figures/robinhood_popular_sectors.png\")"
   ]
  },
  {
   "cell_type": "markdown",
   "metadata": {},
   "source": [
    "## Tickers popular on WSB"
   ]
  },
  {
   "cell_type": "code",
   "execution_count": 32,
   "metadata": {},
   "outputs": [],
   "source": [
    "ticker_df = pd.read_csv(cwd + '/tickers_per_hour.csv', parse_dates = [0])"
   ]
  },
  {
   "cell_type": "code",
   "execution_count": 33,
   "metadata": {},
   "outputs": [
    {
     "data": {
      "text/html": [
       "<div>\n",
       "<style scoped>\n",
       "    .dataframe tbody tr th:only-of-type {\n",
       "        vertical-align: middle;\n",
       "    }\n",
       "\n",
       "    .dataframe tbody tr th {\n",
       "        vertical-align: top;\n",
       "    }\n",
       "\n",
       "    .dataframe thead th {\n",
       "        text-align: right;\n",
       "    }\n",
       "</style>\n",
       "<table border=\"1\" class=\"dataframe\">\n",
       "  <thead>\n",
       "    <tr style=\"text-align: right;\">\n",
       "      <th></th>\n",
       "      <th>hourly</th>\n",
       "      <th>AAL</th>\n",
       "      <th>AAN</th>\n",
       "      <th>AAOI</th>\n",
       "      <th>AAON</th>\n",
       "      <th>AAP</th>\n",
       "      <th>AAPL</th>\n",
       "      <th>AAT</th>\n",
       "      <th>AAU</th>\n",
       "      <th>AAWW</th>\n",
       "      <th>...</th>\n",
       "      <th>ZROZ</th>\n",
       "      <th>ZS</th>\n",
       "      <th>ZSAN</th>\n",
       "      <th>ZSL</th>\n",
       "      <th>ZTO</th>\n",
       "      <th>ZTR</th>\n",
       "      <th>ZTS</th>\n",
       "      <th>ZUMZ</th>\n",
       "      <th>ZUO</th>\n",
       "      <th>ZYNE</th>\n",
       "    </tr>\n",
       "  </thead>\n",
       "  <tbody>\n",
       "    <tr>\n",
       "      <th>0</th>\n",
       "      <td>2018-04-30 20:00:00-04:00</td>\n",
       "      <td>0</td>\n",
       "      <td>0</td>\n",
       "      <td>0</td>\n",
       "      <td>0</td>\n",
       "      <td>0</td>\n",
       "      <td>0</td>\n",
       "      <td>0</td>\n",
       "      <td>0</td>\n",
       "      <td>0</td>\n",
       "      <td>...</td>\n",
       "      <td>0</td>\n",
       "      <td>0</td>\n",
       "      <td>0</td>\n",
       "      <td>0</td>\n",
       "      <td>0</td>\n",
       "      <td>0</td>\n",
       "      <td>0</td>\n",
       "      <td>0</td>\n",
       "      <td>0</td>\n",
       "      <td>0</td>\n",
       "    </tr>\n",
       "    <tr>\n",
       "      <th>1</th>\n",
       "      <td>2018-04-30 21:00:00-04:00</td>\n",
       "      <td>0</td>\n",
       "      <td>0</td>\n",
       "      <td>0</td>\n",
       "      <td>0</td>\n",
       "      <td>0</td>\n",
       "      <td>2</td>\n",
       "      <td>0</td>\n",
       "      <td>0</td>\n",
       "      <td>0</td>\n",
       "      <td>...</td>\n",
       "      <td>0</td>\n",
       "      <td>0</td>\n",
       "      <td>0</td>\n",
       "      <td>0</td>\n",
       "      <td>0</td>\n",
       "      <td>0</td>\n",
       "      <td>0</td>\n",
       "      <td>0</td>\n",
       "      <td>0</td>\n",
       "      <td>0</td>\n",
       "    </tr>\n",
       "    <tr>\n",
       "      <th>2</th>\n",
       "      <td>2018-04-30 22:00:00-04:00</td>\n",
       "      <td>0</td>\n",
       "      <td>0</td>\n",
       "      <td>0</td>\n",
       "      <td>0</td>\n",
       "      <td>0</td>\n",
       "      <td>0</td>\n",
       "      <td>0</td>\n",
       "      <td>0</td>\n",
       "      <td>0</td>\n",
       "      <td>...</td>\n",
       "      <td>0</td>\n",
       "      <td>0</td>\n",
       "      <td>0</td>\n",
       "      <td>0</td>\n",
       "      <td>0</td>\n",
       "      <td>0</td>\n",
       "      <td>0</td>\n",
       "      <td>0</td>\n",
       "      <td>0</td>\n",
       "      <td>0</td>\n",
       "    </tr>\n",
       "    <tr>\n",
       "      <th>3</th>\n",
       "      <td>2018-04-30 23:00:00-04:00</td>\n",
       "      <td>0</td>\n",
       "      <td>0</td>\n",
       "      <td>0</td>\n",
       "      <td>0</td>\n",
       "      <td>0</td>\n",
       "      <td>1</td>\n",
       "      <td>0</td>\n",
       "      <td>0</td>\n",
       "      <td>0</td>\n",
       "      <td>...</td>\n",
       "      <td>0</td>\n",
       "      <td>0</td>\n",
       "      <td>0</td>\n",
       "      <td>0</td>\n",
       "      <td>0</td>\n",
       "      <td>0</td>\n",
       "      <td>0</td>\n",
       "      <td>0</td>\n",
       "      <td>0</td>\n",
       "      <td>0</td>\n",
       "    </tr>\n",
       "    <tr>\n",
       "      <th>4</th>\n",
       "      <td>2018-05-01 00:00:00-04:00</td>\n",
       "      <td>0</td>\n",
       "      <td>0</td>\n",
       "      <td>0</td>\n",
       "      <td>0</td>\n",
       "      <td>0</td>\n",
       "      <td>1</td>\n",
       "      <td>0</td>\n",
       "      <td>0</td>\n",
       "      <td>0</td>\n",
       "      <td>...</td>\n",
       "      <td>0</td>\n",
       "      <td>0</td>\n",
       "      <td>0</td>\n",
       "      <td>0</td>\n",
       "      <td>0</td>\n",
       "      <td>0</td>\n",
       "      <td>0</td>\n",
       "      <td>0</td>\n",
       "      <td>0</td>\n",
       "      <td>0</td>\n",
       "    </tr>\n",
       "    <tr>\n",
       "      <th>...</th>\n",
       "      <td>...</td>\n",
       "      <td>...</td>\n",
       "      <td>...</td>\n",
       "      <td>...</td>\n",
       "      <td>...</td>\n",
       "      <td>...</td>\n",
       "      <td>...</td>\n",
       "      <td>...</td>\n",
       "      <td>...</td>\n",
       "      <td>...</td>\n",
       "      <td>...</td>\n",
       "      <td>...</td>\n",
       "      <td>...</td>\n",
       "      <td>...</td>\n",
       "      <td>...</td>\n",
       "      <td>...</td>\n",
       "      <td>...</td>\n",
       "      <td>...</td>\n",
       "      <td>...</td>\n",
       "      <td>...</td>\n",
       "      <td>...</td>\n",
       "    </tr>\n",
       "    <tr>\n",
       "      <th>19770</th>\n",
       "      <td>2020-08-05 17:00:00-04:00</td>\n",
       "      <td>7</td>\n",
       "      <td>0</td>\n",
       "      <td>0</td>\n",
       "      <td>0</td>\n",
       "      <td>0</td>\n",
       "      <td>4</td>\n",
       "      <td>0</td>\n",
       "      <td>0</td>\n",
       "      <td>0</td>\n",
       "      <td>...</td>\n",
       "      <td>0</td>\n",
       "      <td>0</td>\n",
       "      <td>0</td>\n",
       "      <td>0</td>\n",
       "      <td>0</td>\n",
       "      <td>0</td>\n",
       "      <td>0</td>\n",
       "      <td>0</td>\n",
       "      <td>0</td>\n",
       "      <td>0</td>\n",
       "    </tr>\n",
       "    <tr>\n",
       "      <th>19771</th>\n",
       "      <td>2020-08-05 18:00:00-04:00</td>\n",
       "      <td>46</td>\n",
       "      <td>0</td>\n",
       "      <td>0</td>\n",
       "      <td>0</td>\n",
       "      <td>0</td>\n",
       "      <td>3</td>\n",
       "      <td>0</td>\n",
       "      <td>0</td>\n",
       "      <td>0</td>\n",
       "      <td>...</td>\n",
       "      <td>0</td>\n",
       "      <td>0</td>\n",
       "      <td>0</td>\n",
       "      <td>0</td>\n",
       "      <td>0</td>\n",
       "      <td>0</td>\n",
       "      <td>0</td>\n",
       "      <td>0</td>\n",
       "      <td>0</td>\n",
       "      <td>0</td>\n",
       "    </tr>\n",
       "    <tr>\n",
       "      <th>19772</th>\n",
       "      <td>2020-08-05 19:00:00-04:00</td>\n",
       "      <td>30</td>\n",
       "      <td>0</td>\n",
       "      <td>0</td>\n",
       "      <td>0</td>\n",
       "      <td>0</td>\n",
       "      <td>3</td>\n",
       "      <td>0</td>\n",
       "      <td>0</td>\n",
       "      <td>0</td>\n",
       "      <td>...</td>\n",
       "      <td>0</td>\n",
       "      <td>0</td>\n",
       "      <td>0</td>\n",
       "      <td>0</td>\n",
       "      <td>0</td>\n",
       "      <td>0</td>\n",
       "      <td>0</td>\n",
       "      <td>0</td>\n",
       "      <td>0</td>\n",
       "      <td>0</td>\n",
       "    </tr>\n",
       "    <tr>\n",
       "      <th>19773</th>\n",
       "      <td>2020-08-05 20:00:00-04:00</td>\n",
       "      <td>21</td>\n",
       "      <td>0</td>\n",
       "      <td>1</td>\n",
       "      <td>0</td>\n",
       "      <td>0</td>\n",
       "      <td>5</td>\n",
       "      <td>0</td>\n",
       "      <td>0</td>\n",
       "      <td>0</td>\n",
       "      <td>...</td>\n",
       "      <td>0</td>\n",
       "      <td>0</td>\n",
       "      <td>0</td>\n",
       "      <td>0</td>\n",
       "      <td>0</td>\n",
       "      <td>0</td>\n",
       "      <td>0</td>\n",
       "      <td>0</td>\n",
       "      <td>0</td>\n",
       "      <td>0</td>\n",
       "    </tr>\n",
       "    <tr>\n",
       "      <th>19774</th>\n",
       "      <td>2020-08-05 21:00:00-04:00</td>\n",
       "      <td>6</td>\n",
       "      <td>0</td>\n",
       "      <td>0</td>\n",
       "      <td>0</td>\n",
       "      <td>0</td>\n",
       "      <td>1</td>\n",
       "      <td>0</td>\n",
       "      <td>0</td>\n",
       "      <td>0</td>\n",
       "      <td>...</td>\n",
       "      <td>0</td>\n",
       "      <td>0</td>\n",
       "      <td>0</td>\n",
       "      <td>0</td>\n",
       "      <td>0</td>\n",
       "      <td>0</td>\n",
       "      <td>0</td>\n",
       "      <td>0</td>\n",
       "      <td>0</td>\n",
       "      <td>0</td>\n",
       "    </tr>\n",
       "  </tbody>\n",
       "</table>\n",
       "<p>19775 rows × 3763 columns</p>\n",
       "</div>"
      ],
      "text/plain": [
       "                          hourly  AAL  AAN  AAOI  AAON  AAP  AAPL  AAT  AAU  \\\n",
       "0      2018-04-30 20:00:00-04:00    0    0     0     0    0     0    0    0   \n",
       "1      2018-04-30 21:00:00-04:00    0    0     0     0    0     2    0    0   \n",
       "2      2018-04-30 22:00:00-04:00    0    0     0     0    0     0    0    0   \n",
       "3      2018-04-30 23:00:00-04:00    0    0     0     0    0     1    0    0   \n",
       "4      2018-05-01 00:00:00-04:00    0    0     0     0    0     1    0    0   \n",
       "...                          ...  ...  ...   ...   ...  ...   ...  ...  ...   \n",
       "19770  2020-08-05 17:00:00-04:00    7    0     0     0    0     4    0    0   \n",
       "19771  2020-08-05 18:00:00-04:00   46    0     0     0    0     3    0    0   \n",
       "19772  2020-08-05 19:00:00-04:00   30    0     0     0    0     3    0    0   \n",
       "19773  2020-08-05 20:00:00-04:00   21    0     1     0    0     5    0    0   \n",
       "19774  2020-08-05 21:00:00-04:00    6    0     0     0    0     1    0    0   \n",
       "\n",
       "       AAWW  ...  ZROZ  ZS  ZSAN  ZSL  ZTO  ZTR  ZTS  ZUMZ  ZUO  ZYNE  \n",
       "0         0  ...     0   0     0    0    0    0    0     0    0     0  \n",
       "1         0  ...     0   0     0    0    0    0    0     0    0     0  \n",
       "2         0  ...     0   0     0    0    0    0    0     0    0     0  \n",
       "3         0  ...     0   0     0    0    0    0    0     0    0     0  \n",
       "4         0  ...     0   0     0    0    0    0    0     0    0     0  \n",
       "...     ...  ...   ...  ..   ...  ...  ...  ...  ...   ...  ...   ...  \n",
       "19770     0  ...     0   0     0    0    0    0    0     0    0     0  \n",
       "19771     0  ...     0   0     0    0    0    0    0     0    0     0  \n",
       "19772     0  ...     0   0     0    0    0    0    0     0    0     0  \n",
       "19773     0  ...     0   0     0    0    0    0    0     0    0     0  \n",
       "19774     0  ...     0   0     0    0    0    0    0     0    0     0  \n",
       "\n",
       "[19775 rows x 3763 columns]"
      ]
     },
     "execution_count": 33,
     "metadata": {},
     "output_type": "execute_result"
    }
   ],
   "source": [
    "ticker_df"
   ]
  },
  {
   "cell_type": "code",
   "execution_count": 34,
   "metadata": {},
   "outputs": [],
   "source": [
    "ticker_df.set_index('hourly', inplace = True)"
   ]
  },
  {
   "cell_type": "code",
   "execution_count": 38,
   "metadata": {},
   "outputs": [],
   "source": [
    "ticker_df.index = pd.to_datetime(ticker_df.index, utc = True)"
   ]
  },
  {
   "cell_type": "code",
   "execution_count": 41,
   "metadata": {},
   "outputs": [],
   "source": [
    "ticker_df.index = ticker_df.index.tz_convert('US/Eastern')"
   ]
  },
  {
   "cell_type": "code",
   "execution_count": 42,
   "metadata": {},
   "outputs": [],
   "source": [
    "# divide into before and after covid\n",
    "wsb_bc = ticker_df[:'2020-03-01 17:00:00-04:00']\n",
    "wsb_ac = ticker_df['2020-03-01 17:00:00-04:00':]\n",
    "\n",
    "# sum by axis and get top 20\n",
    "popular_wsb_bc = wsb_bc.sum(axis = 0)['AAL':].astype(int).nlargest(20)\n",
    "popular_wsb_ac = wsb_ac.sum(axis = 0)['AAL':].astype(int).nlargest(20)"
   ]
  },
  {
   "cell_type": "code",
   "execution_count": 44,
   "metadata": {},
   "outputs": [],
   "source": [
    "# load company industry data\n",
    "dir_ = cwd + '/data/'\n",
    "nasdaq = pd.read_csv(dir_ +'nasdaq.csv')\n",
    "nyse = pd.read_csv(dir_ + 'nyse.csv')\n",
    "\n",
    "# initialize stock_sector data\n",
    "nasdaq.set_index('Symbol', inplace = True)\n",
    "nyse.set_index('Symbol', inplace = True)\n",
    "\n",
    "nasdaq_ticker = nasdaq.index.values\n",
    "nyse_ticker = nyse.index.values"
   ]
  },
  {
   "cell_type": "code",
   "execution_count": 50,
   "metadata": {},
   "outputs": [
    {
     "data": {
      "text/html": [
       "<div>\n",
       "<style scoped>\n",
       "    .dataframe tbody tr th:only-of-type {\n",
       "        vertical-align: middle;\n",
       "    }\n",
       "\n",
       "    .dataframe tbody tr th {\n",
       "        vertical-align: top;\n",
       "    }\n",
       "\n",
       "    .dataframe thead th {\n",
       "        text-align: right;\n",
       "    }\n",
       "</style>\n",
       "<table border=\"1\" class=\"dataframe\">\n",
       "  <thead>\n",
       "    <tr style=\"text-align: right;\">\n",
       "      <th></th>\n",
       "      <th>Name</th>\n",
       "      <th>LastSale</th>\n",
       "      <th>MarketCap</th>\n",
       "      <th>IPOyear</th>\n",
       "      <th>Sector</th>\n",
       "      <th>industry</th>\n",
       "      <th>Summary Quote</th>\n",
       "      <th>Unnamed: 8</th>\n",
       "    </tr>\n",
       "    <tr>\n",
       "      <th>Symbol</th>\n",
       "      <th></th>\n",
       "      <th></th>\n",
       "      <th></th>\n",
       "      <th></th>\n",
       "      <th></th>\n",
       "      <th></th>\n",
       "      <th></th>\n",
       "      <th></th>\n",
       "    </tr>\n",
       "  </thead>\n",
       "  <tbody>\n",
       "    <tr>\n",
       "      <th>DDD</th>\n",
       "      <td>3D Systems Corporation</td>\n",
       "      <td>4.92</td>\n",
       "      <td>$595.98M</td>\n",
       "      <td>NaN</td>\n",
       "      <td>Technology</td>\n",
       "      <td>Computer Software: Prepackaged Software</td>\n",
       "      <td>https://old.nasdaq.com/symbol/ddd</td>\n",
       "      <td>NaN</td>\n",
       "    </tr>\n",
       "    <tr>\n",
       "      <th>MMM</th>\n",
       "      <td>3M Company</td>\n",
       "      <td>159.81</td>\n",
       "      <td>$92.05B</td>\n",
       "      <td>NaN</td>\n",
       "      <td>Health Care</td>\n",
       "      <td>Medical/Dental Instruments</td>\n",
       "      <td>https://old.nasdaq.com/symbol/mmm</td>\n",
       "      <td>NaN</td>\n",
       "    </tr>\n",
       "    <tr>\n",
       "      <th>WBAI</th>\n",
       "      <td>500.com Limited</td>\n",
       "      <td>3.00</td>\n",
       "      <td>$129M</td>\n",
       "      <td>2013.0</td>\n",
       "      <td>Consumer Services</td>\n",
       "      <td>Services-Misc. Amusement &amp; Recreation</td>\n",
       "      <td>https://old.nasdaq.com/symbol/wbai</td>\n",
       "      <td>NaN</td>\n",
       "    </tr>\n",
       "    <tr>\n",
       "      <th>EGHT</th>\n",
       "      <td>8x8 Inc</td>\n",
       "      <td>15.58</td>\n",
       "      <td>$1.62B</td>\n",
       "      <td>NaN</td>\n",
       "      <td>Technology</td>\n",
       "      <td>EDP Services</td>\n",
       "      <td>https://old.nasdaq.com/symbol/eght</td>\n",
       "      <td>NaN</td>\n",
       "    </tr>\n",
       "    <tr>\n",
       "      <th>AHC</th>\n",
       "      <td>A.H. Belo Corporation</td>\n",
       "      <td>1.43</td>\n",
       "      <td>$34.15M</td>\n",
       "      <td>NaN</td>\n",
       "      <td>Consumer Services</td>\n",
       "      <td>Newspapers/Magazines</td>\n",
       "      <td>https://old.nasdaq.com/symbol/ahc</td>\n",
       "      <td>NaN</td>\n",
       "    </tr>\n",
       "  </tbody>\n",
       "</table>\n",
       "</div>"
      ],
      "text/plain": [
       "                          Name  LastSale MarketCap  IPOyear  \\\n",
       "Symbol                                                        \n",
       "DDD     3D Systems Corporation      4.92  $595.98M      NaN   \n",
       "MMM                 3M Company    159.81   $92.05B      NaN   \n",
       "WBAI           500.com Limited      3.00     $129M   2013.0   \n",
       "EGHT                   8x8 Inc     15.58    $1.62B      NaN   \n",
       "AHC      A.H. Belo Corporation      1.43   $34.15M      NaN   \n",
       "\n",
       "                   Sector                                 industry  \\\n",
       "Symbol                                                               \n",
       "DDD            Technology  Computer Software: Prepackaged Software   \n",
       "MMM           Health Care               Medical/Dental Instruments   \n",
       "WBAI    Consumer Services    Services-Misc. Amusement & Recreation   \n",
       "EGHT           Technology                             EDP Services   \n",
       "AHC     Consumer Services                     Newspapers/Magazines   \n",
       "\n",
       "                             Summary Quote  Unnamed: 8  \n",
       "Symbol                                                  \n",
       "DDD      https://old.nasdaq.com/symbol/ddd         NaN  \n",
       "MMM      https://old.nasdaq.com/symbol/mmm         NaN  \n",
       "WBAI    https://old.nasdaq.com/symbol/wbai         NaN  \n",
       "EGHT    https://old.nasdaq.com/symbol/eght         NaN  \n",
       "AHC      https://old.nasdaq.com/symbol/ahc         NaN  "
      ]
     },
     "execution_count": 50,
     "metadata": {},
     "output_type": "execute_result"
    }
   ],
   "source": [
    "nyse.head()"
   ]
  },
  {
   "cell_type": "code",
   "execution_count": 52,
   "metadata": {},
   "outputs": [
    {
     "data": {
      "text/plain": [
       "'Capital Goods'"
      ]
     },
     "execution_count": 52,
     "metadata": {},
     "output_type": "execute_result"
    }
   ],
   "source": [
    "nasdaq.loc['TSLA']['Sector']"
   ]
  },
  {
   "cell_type": "code",
   "execution_count": 99,
   "metadata": {},
   "outputs": [],
   "source": [
    "etf_ticker = ['ARKK', 'IWM', 'TNA', 'QQQ', 'USO']\n",
    "commodity_ticker = ['GLD', 'SLV', 'GDX']\n",
    "\n",
    "def get_sector_industry(ticker_list):\n",
    "    sector = {}\n",
    "    industry = {}\n",
    "    for ticker in ticker_list:\n",
    "        if ticker in etf_ticker:\n",
    "            sector[ticker] = 'ETF'\n",
    "            industry[ticker] = 'ETF'\n",
    "        elif ticker in commodity_ticker:\n",
    "            sector[ticker] = 'ETF'\n",
    "            industry[ticker] = 'Precious Metals'\n",
    "        elif ticker in nasdaq_ticker:\n",
    "            sector[ticker] = nasdaq.loc[ticker]['Sector']\n",
    "            industry[ticker] = nasdaq.loc[ticker]['industry']\n",
    "        elif ticker in nyse_ticker:\n",
    "            sector[ticker] = nyse.loc[ticker]['Sector']\n",
    "            industry[ticker] = nyse.loc[ticker]['industry']\n",
    "        else:\n",
    "            pass\n",
    "    return pd.Series(sector), pd.Series(industry)"
   ]
  },
  {
   "cell_type": "code",
   "execution_count": 100,
   "metadata": {},
   "outputs": [],
   "source": [
    "wsb_sector_bc, wsb_industry_bc = get_sector_industry(popular_wsb_bc.index.values)\n",
    "wsb_sector_ac, wsb_industry_ac = get_sector_industry(popular_wsb_ac.index.values)"
   ]
  },
  {
   "cell_type": "code",
   "execution_count": 111,
   "metadata": {},
   "outputs": [],
   "source": [
    "popular_wsb_bc_df = pd.DataFrame({'ticker': popular_wsb_bc.index.values, 'sector': wsb_sector_bc, \n",
    "                                  'industry': wsb_industry_bc, 'value': popular_wsb_bc, 'rank': np.arange(1, 21)})\n",
    "popular_wsb_ac_df = pd.DataFrame({'ticker': popular_wsb_ac.index.values, 'sector': wsb_sector_ac, \n",
    "                                  'industry': wsb_industry_ac, 'value': popular_wsb_ac, 'rank': np.arange(1, 21)})"
   ]
  },
  {
   "cell_type": "code",
   "execution_count": 124,
   "metadata": {},
   "outputs": [
    {
     "data": {
      "text/plain": [
       "Computer Software: Prepackaged Software            4\n",
       "Semiconductors                                     3\n",
       "Computer Software: Programming, Data Processing    2\n",
       "Auto Manufacturing                                 2\n",
       "Consumer Electronics/Video Chains                  1\n",
       "Computer Manufacturing                             1\n",
       "Aerospace                                          1\n",
       "Business Services                                  1\n",
       "Services-Misc. Amusement & Recreation              1\n",
       "Consumer Electronics/Appliances                    1\n",
       "Television Services                                1\n",
       "Catalog/Specialty Distribution                     1\n",
       "ETF                                                1\n",
       "Name: industry, dtype: int64"
      ]
     },
     "execution_count": 124,
     "metadata": {},
     "output_type": "execute_result"
    }
   ],
   "source": [
    "popular_wsb_bc_df['industry'].value_counts()"
   ]
  },
  {
   "cell_type": "code",
   "execution_count": 112,
   "metadata": {
    "scrolled": true
   },
   "outputs": [
    {
     "data": {
      "text/plain": [
       "0"
      ]
     },
     "execution_count": 112,
     "metadata": {},
     "output_type": "execute_result"
    }
   ],
   "source": [
    "popular_wsb_ac_df['sector'].isna().sum()"
   ]
  },
  {
   "cell_type": "code",
   "execution_count": 113,
   "metadata": {},
   "outputs": [
    {
     "data": {
      "text/plain": [
       "0"
      ]
     },
     "execution_count": 113,
     "metadata": {},
     "output_type": "execute_result"
    }
   ],
   "source": [
    "popular_wsb_bc_df['sector'].isna().sum()"
   ]
  },
  {
   "cell_type": "code",
   "execution_count": 140,
   "metadata": {},
   "outputs": [],
   "source": [
    "popular_wsb_df = pd.concat([popular_wsb_bc_df, popular_wsb_ac_df], axis = 0)"
   ]
  },
  {
   "cell_type": "code",
   "execution_count": 141,
   "metadata": {},
   "outputs": [],
   "source": [
    "popular_wsb_df['time'] = ['before 2020/3/1'] * 20 + ['after 2020/3/1'] * 20"
   ]
  },
  {
   "cell_type": "code",
   "execution_count": 142,
   "metadata": {},
   "outputs": [],
   "source": [
    "popular_wsb_df.sort_values(by = ['sector'], inplace = True)"
   ]
  },
  {
   "cell_type": "code",
   "execution_count": 143,
   "metadata": {},
   "outputs": [],
   "source": [
    "popular_wsb_df.to_csv(cwd + '/data/popular_wsb_df.csv')"
   ]
  },
  {
   "cell_type": "code",
   "execution_count": 144,
   "metadata": {},
   "outputs": [
    {
     "data": {
      "image/png": "[encoded data removed]",
      "text/plain": [
       "<Figure size 576x432 with 1 Axes>"
      ]
     },
     "metadata": {
      "needs_background": "light"
     },
     "output_type": "display_data"
    }
   ],
   "source": [
    "plt.figure(figsize = (8, 6))\n",
    "sns.countplot(y = 'sector', hue = 'time', data = popular_wsb_df)\n",
    "plt.legend(loc = 1)\n",
    "plt.title(\"Popular sectors on WSB before v. after covid\")\n",
    "plt.savefig(cwd + \"/figures/wsb_popular_sectors.png\")"
   ]
  },
  {
   "cell_type": "markdown",
   "metadata": {
    "collapsed": true
   },
   "source": [
    "### Want to understand whether the top 20 is representative"
   ]
  },
  {
   "cell_type": "code",
   "execution_count": 18,
   "metadata": {},
   "outputs": [],
   "source": [
    "# load data\n",
    "import pandas as pd\n",
    "import numpy as np\n",
    "import seaborn as sns\n",
    "import matplotlib.pyplot as plt\n",
    "import os\n",
    "from scipy import stats\n",
    "from timeit import default_timer as timer\n",
    "\n",
    "cwd = os.getcwd()\n",
    "filename= cwd + '/robintrack/popularity_export/final_user_df.csv'\n",
    "\n",
    "# data cleaned + manipulated in robintrack analysis.ipynb\n",
    "final_user_df= pd.read_csv(filename, parse_dates = [0])"
   ]
  },
  {
   "cell_type": "code",
   "execution_count": 19,
   "metadata": {},
   "outputs": [],
   "source": [
    "def initialize_df(df):\n",
    "    df['timestamp'] = pd.to_datetime(df.iloc[:, 0], utc = True)\n",
    "    df.set_index('timestamp', inplace = True)\n",
    "    df.index = df.index.tz_convert('US/Eastern')"
   ]
  },
  {
   "cell_type": "code",
   "execution_count": 20,
   "metadata": {},
   "outputs": [],
   "source": [
    "initialize_df(final_user_df)"
   ]
  },
  {
   "cell_type": "code",
   "execution_count": 21,
   "metadata": {
    "scrolled": true
   },
   "outputs": [
    {
     "data": {
      "text/html": [
       "<div>\n",
       "<style scoped>\n",
       "    .dataframe tbody tr th:only-of-type {\n",
       "        vertical-align: middle;\n",
       "    }\n",
       "\n",
       "    .dataframe tbody tr th {\n",
       "        vertical-align: top;\n",
       "    }\n",
       "\n",
       "    .dataframe thead th {\n",
       "        text-align: right;\n",
       "    }\n",
       "</style>\n",
       "<table border=\"1\" class=\"dataframe\">\n",
       "  <thead>\n",
       "    <tr style=\"text-align: right;\">\n",
       "      <th></th>\n",
       "      <th>Unnamed: 0</th>\n",
       "      <th>RIV</th>\n",
       "      <th>CSCO</th>\n",
       "      <th>PRI</th>\n",
       "      <th>SLIM</th>\n",
       "      <th>NZF</th>\n",
       "      <th>HLNE</th>\n",
       "      <th>UNT</th>\n",
       "      <th>HUBS</th>\n",
       "      <th>GPL</th>\n",
       "      <th>...</th>\n",
       "      <th>SPXX</th>\n",
       "      <th>OLLI</th>\n",
       "      <th>PPL</th>\n",
       "      <th>GSM</th>\n",
       "      <th>OBCI</th>\n",
       "      <th>ROKU</th>\n",
       "      <th>ARDC</th>\n",
       "      <th>MTDR</th>\n",
       "      <th>BWEN</th>\n",
       "      <th>KEM</th>\n",
       "    </tr>\n",
       "    <tr>\n",
       "      <th>timestamp</th>\n",
       "      <th></th>\n",
       "      <th></th>\n",
       "      <th></th>\n",
       "      <th></th>\n",
       "      <th></th>\n",
       "      <th></th>\n",
       "      <th></th>\n",
       "      <th></th>\n",
       "      <th></th>\n",
       "      <th></th>\n",
       "      <th></th>\n",
       "      <th></th>\n",
       "      <th></th>\n",
       "      <th></th>\n",
       "      <th></th>\n",
       "      <th></th>\n",
       "      <th></th>\n",
       "      <th></th>\n",
       "      <th></th>\n",
       "      <th></th>\n",
       "      <th></th>\n",
       "    </tr>\n",
       "  </thead>\n",
       "  <tbody>\n",
       "    <tr>\n",
       "      <th>2018-05-02 00:00:00-04:00</th>\n",
       "      <td>2018-05-02 00:00:00-04:00</td>\n",
       "      <td>65.0</td>\n",
       "      <td>23646.000000</td>\n",
       "      <td>222.000000</td>\n",
       "      <td>69.000000</td>\n",
       "      <td>86.000000</td>\n",
       "      <td>126.000000</td>\n",
       "      <td>53.0</td>\n",
       "      <td>1224.000000</td>\n",
       "      <td>1828.000000</td>\n",
       "      <td>...</td>\n",
       "      <td>160.000000</td>\n",
       "      <td>432.000000</td>\n",
       "      <td>1049.000000</td>\n",
       "      <td>105.0</td>\n",
       "      <td>104.000000</td>\n",
       "      <td>12965.000000</td>\n",
       "      <td>2.0</td>\n",
       "      <td>85.000000</td>\n",
       "      <td>456.000000</td>\n",
       "      <td>2593.000000</td>\n",
       "    </tr>\n",
       "    <tr>\n",
       "      <th>2018-05-02 01:00:00-04:00</th>\n",
       "      <td>2018-05-02 01:00:00-04:00</td>\n",
       "      <td>65.0</td>\n",
       "      <td>23646.000000</td>\n",
       "      <td>222.000000</td>\n",
       "      <td>69.000000</td>\n",
       "      <td>86.000000</td>\n",
       "      <td>126.000000</td>\n",
       "      <td>53.0</td>\n",
       "      <td>1224.000000</td>\n",
       "      <td>1828.000000</td>\n",
       "      <td>...</td>\n",
       "      <td>160.000000</td>\n",
       "      <td>432.000000</td>\n",
       "      <td>1049.000000</td>\n",
       "      <td>105.0</td>\n",
       "      <td>104.000000</td>\n",
       "      <td>12965.000000</td>\n",
       "      <td>2.0</td>\n",
       "      <td>85.000000</td>\n",
       "      <td>456.000000</td>\n",
       "      <td>2593.000000</td>\n",
       "    </tr>\n",
       "    <tr>\n",
       "      <th>2018-05-02 02:00:00-04:00</th>\n",
       "      <td>2018-05-02 02:00:00-04:00</td>\n",
       "      <td>65.0</td>\n",
       "      <td>23652.611111</td>\n",
       "      <td>222.277778</td>\n",
       "      <td>68.944444</td>\n",
       "      <td>86.055556</td>\n",
       "      <td>126.166667</td>\n",
       "      <td>53.0</td>\n",
       "      <td>1223.888889</td>\n",
       "      <td>1827.833333</td>\n",
       "      <td>...</td>\n",
       "      <td>159.944444</td>\n",
       "      <td>431.555556</td>\n",
       "      <td>1049.388889</td>\n",
       "      <td>105.0</td>\n",
       "      <td>104.055556</td>\n",
       "      <td>12959.777778</td>\n",
       "      <td>2.0</td>\n",
       "      <td>85.277778</td>\n",
       "      <td>456.055556</td>\n",
       "      <td>2595.166667</td>\n",
       "    </tr>\n",
       "    <tr>\n",
       "      <th>2018-05-02 03:00:00-04:00</th>\n",
       "      <td>2018-05-02 03:00:00-04:00</td>\n",
       "      <td>65.0</td>\n",
       "      <td>23659.222222</td>\n",
       "      <td>222.555556</td>\n",
       "      <td>68.888889</td>\n",
       "      <td>86.111111</td>\n",
       "      <td>126.333333</td>\n",
       "      <td>53.0</td>\n",
       "      <td>1223.777778</td>\n",
       "      <td>1827.666667</td>\n",
       "      <td>...</td>\n",
       "      <td>159.888889</td>\n",
       "      <td>431.111111</td>\n",
       "      <td>1049.777778</td>\n",
       "      <td>105.0</td>\n",
       "      <td>104.111111</td>\n",
       "      <td>12954.555556</td>\n",
       "      <td>2.0</td>\n",
       "      <td>85.555556</td>\n",
       "      <td>456.111111</td>\n",
       "      <td>2597.333333</td>\n",
       "    </tr>\n",
       "    <tr>\n",
       "      <th>2018-05-02 04:00:00-04:00</th>\n",
       "      <td>2018-05-02 04:00:00-04:00</td>\n",
       "      <td>65.0</td>\n",
       "      <td>23665.833333</td>\n",
       "      <td>222.833333</td>\n",
       "      <td>68.833333</td>\n",
       "      <td>86.166667</td>\n",
       "      <td>126.500000</td>\n",
       "      <td>53.0</td>\n",
       "      <td>1223.666667</td>\n",
       "      <td>1827.500000</td>\n",
       "      <td>...</td>\n",
       "      <td>159.833333</td>\n",
       "      <td>430.666667</td>\n",
       "      <td>1050.166667</td>\n",
       "      <td>105.0</td>\n",
       "      <td>104.166667</td>\n",
       "      <td>12949.333333</td>\n",
       "      <td>2.0</td>\n",
       "      <td>85.833333</td>\n",
       "      <td>456.166667</td>\n",
       "      <td>2599.500000</td>\n",
       "    </tr>\n",
       "  </tbody>\n",
       "</table>\n",
       "<p>5 rows × 5824 columns</p>\n",
       "</div>"
      ],
      "text/plain": [
       "                                          Unnamed: 0   RIV          CSCO  \\\n",
       "timestamp                                                                  \n",
       "2018-05-02 00:00:00-04:00  2018-05-02 00:00:00-04:00  65.0  23646.000000   \n",
       "2018-05-02 01:00:00-04:00  2018-05-02 01:00:00-04:00  65.0  23646.000000   \n",
       "2018-05-02 02:00:00-04:00  2018-05-02 02:00:00-04:00  65.0  23652.611111   \n",
       "2018-05-02 03:00:00-04:00  2018-05-02 03:00:00-04:00  65.0  23659.222222   \n",
       "2018-05-02 04:00:00-04:00  2018-05-02 04:00:00-04:00  65.0  23665.833333   \n",
       "\n",
       "                                  PRI       SLIM        NZF        HLNE   UNT  \\\n",
       "timestamp                                                                       \n",
       "2018-05-02 00:00:00-04:00  222.000000  69.000000  86.000000  126.000000  53.0   \n",
       "2018-05-02 01:00:00-04:00  222.000000  69.000000  86.000000  126.000000  53.0   \n",
       "2018-05-02 02:00:00-04:00  222.277778  68.944444  86.055556  126.166667  53.0   \n",
       "2018-05-02 03:00:00-04:00  222.555556  68.888889  86.111111  126.333333  53.0   \n",
       "2018-05-02 04:00:00-04:00  222.833333  68.833333  86.166667  126.500000  53.0   \n",
       "\n",
       "                                  HUBS          GPL  ...        SPXX  \\\n",
       "timestamp                                            ...               \n",
       "2018-05-02 00:00:00-04:00  1224.000000  1828.000000  ...  160.000000   \n",
       "2018-05-02 01:00:00-04:00  1224.000000  1828.000000  ...  160.000000   \n",
       "2018-05-02 02:00:00-04:00  1223.888889  1827.833333  ...  159.944444   \n",
       "2018-05-02 03:00:00-04:00  1223.777778  1827.666667  ...  159.888889   \n",
       "2018-05-02 04:00:00-04:00  1223.666667  1827.500000  ...  159.833333   \n",
       "\n",
       "                                 OLLI          PPL    GSM        OBCI  \\\n",
       "timestamp                                                               \n",
       "2018-05-02 00:00:00-04:00  432.000000  1049.000000  105.0  104.000000   \n",
       "2018-05-02 01:00:00-04:00  432.000000  1049.000000  105.0  104.000000   \n",
       "2018-05-02 02:00:00-04:00  431.555556  1049.388889  105.0  104.055556   \n",
       "2018-05-02 03:00:00-04:00  431.111111  1049.777778  105.0  104.111111   \n",
       "2018-05-02 04:00:00-04:00  430.666667  1050.166667  105.0  104.166667   \n",
       "\n",
       "                                   ROKU  ARDC       MTDR        BWEN  \\\n",
       "timestamp                                                              \n",
       "2018-05-02 00:00:00-04:00  12965.000000   2.0  85.000000  456.000000   \n",
       "2018-05-02 01:00:00-04:00  12965.000000   2.0  85.000000  456.000000   \n",
       "2018-05-02 02:00:00-04:00  12959.777778   2.0  85.277778  456.055556   \n",
       "2018-05-02 03:00:00-04:00  12954.555556   2.0  85.555556  456.111111   \n",
       "2018-05-02 04:00:00-04:00  12949.333333   2.0  85.833333  456.166667   \n",
       "\n",
       "                                   KEM  \n",
       "timestamp                               \n",
       "2018-05-02 00:00:00-04:00  2593.000000  \n",
       "2018-05-02 01:00:00-04:00  2593.000000  \n",
       "2018-05-02 02:00:00-04:00  2595.166667  \n",
       "2018-05-02 03:00:00-04:00  2597.333333  \n",
       "2018-05-02 04:00:00-04:00  2599.500000  \n",
       "\n",
       "[5 rows x 5824 columns]"
      ]
     },
     "execution_count": 21,
     "metadata": {},
     "output_type": "execute_result"
    }
   ],
   "source": [
    "final_user_df.head()"
   ]
  },
  {
   "cell_type": "code",
   "execution_count": 22,
   "metadata": {},
   "outputs": [],
   "source": [
    "final_user_df.drop('Unnamed: 0', axis = 1, inplace = True)"
   ]
  },
  {
   "cell_type": "code",
   "execution_count": 23,
   "metadata": {},
   "outputs": [],
   "source": [
    "# sum across all stocks over time\n",
    "user_sum = final_user_df.sum(axis = 1)"
   ]
  },
  {
   "cell_type": "code",
   "execution_count": 24,
   "metadata": {},
   "outputs": [
    {
     "data": {
      "text/plain": [
       "timestamp\n",
       "2018-05-02 00:00:00-04:00    5.585534e+06\n",
       "2018-05-02 01:00:00-04:00    5.585534e+06\n",
       "2018-05-02 02:00:00-04:00    5.585857e+06\n",
       "2018-05-02 03:00:00-04:00    5.586180e+06\n",
       "2018-05-02 04:00:00-04:00    5.586503e+06\n",
       "dtype: float64"
      ]
     },
     "execution_count": 24,
     "metadata": {},
     "output_type": "execute_result"
    }
   ],
   "source": [
    "user_sum.head()"
   ]
  },
  {
   "cell_type": "code",
   "execution_count": 26,
   "metadata": {},
   "outputs": [
    {
     "data": {
      "image/png": "[encoded data removed]",
      "text/plain": [
       "<Figure size 432x288 with 1 Axes>"
      ]
     },
     "metadata": {
      "needs_background": "light"
     },
     "output_type": "display_data"
    }
   ],
   "source": [
    "user_sum.plot()\n",
    "plt.title(\"The Total Number of Robinhood accounts holding unique stocks\", y = 1.10)\n",
    "plt.ylabel(\"count\")\n",
    "plt.savefig(cwd + '/figures/Total_num_robinhood.png')"
   ]
  },
  {
   "cell_type": "code",
   "execution_count": 27,
   "metadata": {},
   "outputs": [],
   "source": [
    "# get total account for the pre v. post covid date\n",
    "bc_date = pd.to_datetime('2019-8-13 12:00:00')\n",
    "pre_covid_day_total = user_sum.loc[bc_date]\n",
    "last_day_total = user_sum[-1]"
   ]
  },
  {
   "cell_type": "code",
   "execution_count": 28,
   "metadata": {},
   "outputs": [],
   "source": [
    "top_20_last_day = final_user_df.iloc[-1].nlargest(20)"
   ]
  },
  {
   "cell_type": "code",
   "execution_count": 29,
   "metadata": {},
   "outputs": [
    {
     "name": "stdout",
     "output_type": "stream",
     "text": [
      "28.370896454877137\n"
     ]
    }
   ],
   "source": [
    "# top 20 stocks\n",
    "last_day_prop = top_20_last_day.sum() / last_day_total * 100\n",
    "print(last_day_prop)"
   ]
  },
  {
   "cell_type": "markdown",
   "metadata": {},
   "source": [
    "Ayyy, expected ~80%, but this is still p indicative of super skewed"
   ]
  },
  {
   "cell_type": "code",
   "execution_count": 30,
   "metadata": {},
   "outputs": [
    {
     "data": {
      "text/plain": [
       "180"
      ]
     },
     "execution_count": 30,
     "metadata": {},
     "output_type": "execute_result"
    }
   ],
   "source": [
    "(final_user_df.iloc[-2] == 0).sum()"
   ]
  },
  {
   "cell_type": "code",
   "execution_count": 31,
   "metadata": {},
   "outputs": [],
   "source": [
    "last_day = final_user_df.iloc[-1]"
   ]
  },
  {
   "cell_type": "markdown",
   "metadata": {},
   "source": [
    "Since the distribution is likely to be skewed, we'll take natural log. To do this, we impute all accounts that have zero user holdings at this time = 1 so that the log transformed value = 0."
   ]
  },
  {
   "cell_type": "code",
   "execution_count": 32,
   "metadata": {},
   "outputs": [],
   "source": [
    "last_day[last_day == 0] = 1"
   ]
  },
  {
   "cell_type": "code",
   "execution_count": 33,
   "metadata": {},
   "outputs": [
    {
     "data": {
      "text/plain": [
       "0"
      ]
     },
     "execution_count": 33,
     "metadata": {},
     "output_type": "execute_result"
    }
   ],
   "source": [
    "last_day[last_day == 0].count()"
   ]
  },
  {
   "cell_type": "code",
   "execution_count": 34,
   "metadata": {},
   "outputs": [
    {
     "data": {
      "text/plain": [
       "0"
      ]
     },
     "execution_count": 34,
     "metadata": {},
     "output_type": "execute_result"
    }
   ],
   "source": [
    "(np.log(last_day) < 0).sum()"
   ]
  },
  {
   "cell_type": "code",
   "execution_count": 35,
   "metadata": {},
   "outputs": [
    {
     "data": {
      "text/plain": [
       "Text(0.5, 1.0, 'Stock holding is uneven on Robinhood')"
      ]
     },
     "execution_count": 35,
     "metadata": {},
     "output_type": "execute_result"
    },
    {
     "data": {
      "image/png": "[encoded data removed]",
      "text/plain": [
       "<Figure size 432x288 with 1 Axes>"
      ]
     },
     "metadata": {
      "needs_background": "light"
     },
     "output_type": "display_data"
    }
   ],
   "source": [
    "sns.distplot(np.log(last_day), kde = False)\n",
    "plt.xlabel(\"log of # of users holding each stock\")\n",
    "plt.ylabel(\"count\")\n",
    "plt.title(\"Stock holding is uneven on Robinhood\")"
   ]
  },
  {
   "cell_type": "code",
   "execution_count": 36,
   "metadata": {},
   "outputs": [],
   "source": [
    "bc_date_data = final_user_df.loc[bc_date]\n",
    "bc_date_data[bc_date_data == 0] = 1"
   ]
  },
  {
   "cell_type": "code",
   "execution_count": 37,
   "metadata": {},
   "outputs": [
    {
     "data": {
      "text/plain": [
       "Text(0.5, 1.0, 'Stock holding is uneven on Robinhood')"
      ]
     },
     "execution_count": 37,
     "metadata": {},
     "output_type": "execute_result"
    },
    {
     "data": {
      "image/png": "[encoded data removed]",
      "text/plain": [
       "<Figure size 432x288 with 1 Axes>"
      ]
     },
     "metadata": {
      "needs_background": "light"
     },
     "output_type": "display_data"
    }
   ],
   "source": [
    "sns.distplot(np.log(bc_date_data), kde = False)\n",
    "plt.xlabel(\"log of # of users holding each stock\")\n",
    "plt.ylabel(\"count\")\n",
    "plt.title(\"Stock holding is uneven on Robinhood\")"
   ]
  },
  {
   "cell_type": "code",
   "execution_count": 38,
   "metadata": {},
   "outputs": [
    {
     "name": "stdout",
     "output_type": "stream",
     "text": [
      "68.81552175535937\n"
     ]
    }
   ],
   "source": [
    "# how many top stocks should I grab to capture \n",
    "last_day_prop = last_day.nlargest(200).sum() / last_day_total * 100\n",
    "print(last_day_prop)"
   ]
  },
  {
   "cell_type": "code",
   "execution_count": 39,
   "metadata": {},
   "outputs": [
    {
     "name": "stdout",
     "output_type": "stream",
     "text": [
      "66.61476366569757\n"
     ]
    }
   ],
   "source": [
    "bc_day_prop = bc_date_data.nlargest(200).sum() / pre_covid_day_total * 100\n",
    "print(bc_day_prop)"
   ]
  },
  {
   "cell_type": "markdown",
   "metadata": {},
   "source": [
    "Top 200 stocks capture 66% of all \"stocks\"! "
   ]
  },
  {
   "cell_type": "code",
   "execution_count": 40,
   "metadata": {},
   "outputs": [],
   "source": [
    "rb_top_200_bc = bc_date_data.nlargest(200)\n",
    "rb_top_200_ac = last_day.nlargest(200)"
   ]
  },
  {
   "cell_type": "markdown",
   "metadata": {},
   "source": [
    "### Get sector for top 200"
   ]
  },
  {
   "cell_type": "code",
   "execution_count": 41,
   "metadata": {},
   "outputs": [],
   "source": [
    "# load company industry data\n",
    "dir_ = cwd + '/data/'\n",
    "nasdaq = pd.read_csv(dir_ +'nasdaq.csv')\n",
    "nyse = pd.read_csv(dir_ + 'nyse.csv')\n",
    "\n",
    "# initialize stock_sector data\n",
    "nasdaq.set_index('Symbol', inplace = True)\n",
    "nyse.set_index('Symbol', inplace = True)\n",
    "\n",
    "nasdaq_ticker = nasdaq.index.values\n",
    "nyse_ticker = nyse.index.values"
   ]
  },
  {
   "cell_type": "code",
   "execution_count": 42,
   "metadata": {},
   "outputs": [],
   "source": [
    "etf_ticker = ['ARKK', 'IWM', 'TNA', 'USO', 'VTI', 'VOO', 'MJ', 'SPHD', 'UCO', 'SPY', 'SPYD', 'UWT', 'VYM', 'VNQ', 'VWO']\n",
    "basic_ticker = ['GLD', 'SLV', 'GDX', 'BTG', 'JDST', 'NAK', 'PLM', 'S', 'ZN', 'AKS', 'ASM']\n",
    "transportation_ETF = ['JETS', 'UVAS']\n",
    "technology_ETF = ['ARKK', 'QQQ', 'TQQ', 'BOTZ', 'CY', 'CTL', 'GSAT', 'VGT']\n",
    "healthcare = ['ARNM', 'IBIO', 'MTNB', 'OGEN', 'XXII', 'ZOM', 'ARQL', 'GNMX', 'SENS', 'GNC']\n",
    "energy = ['DNR', 'HUSA', 'NOG', 'UCO', 'DNR']\n",
    "entertainment = ['ERI']\n",
    "public_utilities = ['IGC']\n",
    "consumer = ['JCPNQ'] # Consumer Non-Durables\n",
    "finance = ['PSEC', 'RBS']\n",
    "def get_sector_industry(ticker_list):\n",
    "    sector = {}\n",
    "    industry = {}\n",
    "    for ticker in ticker_list:\n",
    "        if ticker in etf_ticker:\n",
    "            sector[ticker] = 'ETF'\n",
    "            industry[ticker] = 'ETF'\n",
    "        elif ticker in transportation_ETF:\n",
    "            sector[ticker] = 'Transportation'\n",
    "            industry[ticker] = 'ETF'\n",
    "        elif ticker in technology_ETF:\n",
    "            sector[ticker] = 'Technology'\n",
    "            industry[ticker] = 'ETF'\n",
    "        elif ticker in healthcare:\n",
    "            sector[ticker] = 'Health Care'\n",
    "            industry[ticker] = 'Health care'\n",
    "        elif ticker in energy:\n",
    "            sector[ticker] = 'Energy'\n",
    "            industry[ticker] = 'Energy'\n",
    "        elif ticker in basic_ticker:\n",
    "            sector[ticker] = 'Basic Industries'\n",
    "            industry[ticker] = 'Precious Metals'\n",
    "        elif ticker in nasdaq_ticker:\n",
    "            sector[ticker] = nasdaq.loc[ticker]['Sector']\n",
    "            industry[ticker] = nasdaq.loc[ticker]['industry']\n",
    "        elif ticker in nyse_ticker:\n",
    "            sector[ticker] = nyse.loc[ticker]['Sector']\n",
    "            industry[ticker] = nyse.loc[ticker]['industry']\n",
    "        elif ticker in public_utilities:\n",
    "            sector[ticker] = 'Public Utilities'\n",
    "            industry[ticker] = 'Precious Metals'\n",
    "        elif ticker in consumer:\n",
    "            sector[ticker] = 'Consumer Non-Durables'\n",
    "            industry[ticker] = 'Precious Metals'\n",
    "        elif ticker in finance:\n",
    "            sector[ticker] = 'Finance'\n",
    "            industry[ticker] = 'Finance'\n",
    "        elif ticker in entertainment:\n",
    "            sector[ticker] = 'Miscellaneous'\n",
    "            industry[ticker] = 'Entertainment'\n",
    "        else:\n",
    "            pass\n",
    "    return pd.Series(sector), pd.Series(industry)"
   ]
  },
  {
   "cell_type": "code",
   "execution_count": 43,
   "metadata": {},
   "outputs": [
    {
     "data": {
      "text/plain": [
       "(200,)"
      ]
     },
     "execution_count": 43,
     "metadata": {},
     "output_type": "execute_result"
    }
   ],
   "source": [
    "rb_top_200_bc.shape"
   ]
  },
  {
   "cell_type": "code",
   "execution_count": 44,
   "metadata": {},
   "outputs": [
    {
     "data": {
      "text/plain": [
       "(200,)"
      ]
     },
     "execution_count": 44,
     "metadata": {},
     "output_type": "execute_result"
    }
   ],
   "source": [
    "rb_top_200_ac.shape"
   ]
  },
  {
   "cell_type": "code",
   "execution_count": 45,
   "metadata": {},
   "outputs": [],
   "source": [
    "bc_sector, bc_industry  = get_sector_industry(rb_top_200_bc.index.values)\n",
    "ac_sector, ac_industry  = get_sector_industry(rb_top_200_ac.index.values)"
   ]
  },
  {
   "cell_type": "code",
   "execution_count": 46,
   "metadata": {},
   "outputs": [
    {
     "data": {
      "text/plain": [
       "(197,)"
      ]
     },
     "execution_count": 46,
     "metadata": {},
     "output_type": "execute_result"
    }
   ],
   "source": [
    "bc_sector.shape"
   ]
  },
  {
   "cell_type": "code",
   "execution_count": 47,
   "metadata": {},
   "outputs": [
    {
     "data": {
      "text/plain": [
       "(198,)"
      ]
     },
     "execution_count": 47,
     "metadata": {},
     "output_type": "execute_result"
    }
   ],
   "source": [
    "ac_sector.shape"
   ]
  },
  {
   "cell_type": "markdown",
   "metadata": {},
   "source": [
    "~ 30 are dropped bc they're on neither. Future: Investigate this further? "
   ]
  },
  {
   "cell_type": "code",
   "execution_count": 48,
   "metadata": {},
   "outputs": [],
   "source": [
    "rb_top_200_bc_df = rb_top_200_bc.to_frame()\n",
    "rb_top_200_ac_df = rb_top_200_ac.to_frame()"
   ]
  },
  {
   "cell_type": "code",
   "execution_count": 49,
   "metadata": {},
   "outputs": [],
   "source": [
    "rb_top_200_bc_df = bc_sector.to_frame().combine_first(rb_top_200_bc_df)\n",
    "rb_top_200_ac_df = ac_sector.to_frame().combine_first(rb_top_200_ac_df)"
   ]
  },
  {
   "cell_type": "code",
   "execution_count": 50,
   "metadata": {},
   "outputs": [
    {
     "data": {
      "text/plain": [
       "(200, 2)"
      ]
     },
     "execution_count": 50,
     "metadata": {},
     "output_type": "execute_result"
    }
   ],
   "source": [
    "rb_top_200_bc_df.shape"
   ]
  },
  {
   "cell_type": "code",
   "execution_count": 51,
   "metadata": {},
   "outputs": [
    {
     "data": {
      "text/plain": [
       "(200, 2)"
      ]
     },
     "execution_count": 51,
     "metadata": {},
     "output_type": "execute_result"
    }
   ],
   "source": [
    "rb_top_200_ac_df.shape"
   ]
  },
  {
   "cell_type": "markdown",
   "metadata": {},
   "source": [
    "Drop NAs for now, note what kind of tickers they are -- manually imputed the sector data for ~ 30 tickers on each frame"
   ]
  },
  {
   "cell_type": "code",
   "execution_count": 54,
   "metadata": {},
   "outputs": [
    {
     "data": {
      "text/plain": [
       "Index([2019-08-13 12:00:00-04:00, 0], dtype='object')"
      ]
     },
     "execution_count": 54,
     "metadata": {},
     "output_type": "execute_result"
    }
   ],
   "source": [
    "rb_top_200_bc_df.columns"
   ]
  },
  {
   "cell_type": "code",
   "execution_count": 55,
   "metadata": {},
   "outputs": [],
   "source": [
    "rb_top_200_bc_df.rename(columns = {rb_top_200_bc_df.columns[0]: 'user_holding', \n",
    "                                   rb_top_200_bc_df.columns[1]: 'sector'}, inplace = True)"
   ]
  },
  {
   "cell_type": "code",
   "execution_count": 56,
   "metadata": {},
   "outputs": [],
   "source": [
    "rb_top_200_ac_df.rename(columns = {rb_top_200_ac_df.columns[0]: 'user_holding', \n",
    "                                   rb_top_200_ac_df.columns[1]: 'sector'}, inplace = True)"
   ]
  },
  {
   "cell_type": "code",
   "execution_count": 57,
   "metadata": {},
   "outputs": [
    {
     "data": {
      "text/plain": [
       "Text(0.5, 1.0, 'Sector Composition of Top 200 Tickers in 2019 August')"
      ]
     },
     "execution_count": 57,
     "metadata": {},
     "output_type": "execute_result"
    },
    {
     "data": {
      "image/png": "[encoded data removed]",
      "text/plain": [
       "<Figure size 432x288 with 1 Axes>"
      ]
     },
     "metadata": {
      "needs_background": "light"
     },
     "output_type": "display_data"
    }
   ],
   "source": [
    "sns.countplot(y = rb_top_200_bc_df.sort_values(by = ['sector'])['sector'])\n",
    "plt.title(\"Sector Composition of Top 200 Tickers in 2019 August\")"
   ]
  },
  {
   "cell_type": "code",
   "execution_count": 58,
   "metadata": {},
   "outputs": [
    {
     "data": {
      "text/plain": [
       "126"
      ]
     },
     "execution_count": 58,
     "metadata": {},
     "output_type": "execute_result"
    }
   ],
   "source": [
    "len(set(rb_top_200_ac_df.index.values).intersection(set(rb_top_200_bc_df.index.values)))"
   ]
  },
  {
   "cell_type": "code",
   "execution_count": 59,
   "metadata": {},
   "outputs": [
    {
     "data": {
      "text/plain": [
       "Text(0.5, 1.0, 'Sector Composition of Top 200 Tickers in 2020 August')"
      ]
     },
     "execution_count": 59,
     "metadata": {},
     "output_type": "execute_result"
    },
    {
     "data": {
      "image/png": "[encoded data removed]",
      "text/plain": [
       "<Figure size 432x288 with 1 Axes>"
      ]
     },
     "metadata": {
      "needs_background": "light"
     },
     "output_type": "display_data"
    }
   ],
   "source": [
    "sns.countplot(y = rb_top_200_ac_df.sort_values(by = ['sector'])['sector'])\n",
    "plt.title(\"Sector Composition of Top 200 Tickers in 2020 August\")"
   ]
  },
  {
   "cell_type": "code",
   "execution_count": 223,
   "metadata": {},
   "outputs": [],
   "source": [
    "pre_covid_sector = rb_top_200_bc_df.groupby('sector').sum()\n",
    "post_covid_sector = rb_top_200_ac_df.groupby('sector').sum()"
   ]
  },
  {
   "cell_type": "code",
   "execution_count": 228,
   "metadata": {},
   "outputs": [],
   "source": [
    "pre_sector_perc = pre_covid_sector.apply(lambda x: 100*x / x.sum(axis = 0))\n",
    "post_sector_perc = post_covid_sector.apply(lambda x: 100*x / x.sum(axis = 0))"
   ]
  },
  {
   "cell_type": "code",
   "execution_count": 229,
   "metadata": {},
   "outputs": [],
   "source": [
    "rb_sector_perc = pd.concat([pre_sector_perc, post_sector_perc], axis = 0)"
   ]
  },
  {
   "cell_type": "code",
   "execution_count": 231,
   "metadata": {},
   "outputs": [
    {
     "data": {
      "text/plain": [
       "(26, 1)"
      ]
     },
     "execution_count": 231,
     "metadata": {},
     "output_type": "execute_result"
    }
   ],
   "source": [
    "rb_sector_perc.shape"
   ]
  },
  {
   "cell_type": "code",
   "execution_count": 232,
   "metadata": {},
   "outputs": [],
   "source": [
    "rb_sector_perc['Covid'] = ['Pre'] * 13 + ['Post'] * 13"
   ]
  },
  {
   "cell_type": "code",
   "execution_count": 236,
   "metadata": {},
   "outputs": [],
   "source": [
    "rb_sector_perc['sector'] = rb_sector_perc.index.values"
   ]
  },
  {
   "cell_type": "code",
   "execution_count": 239,
   "metadata": {},
   "outputs": [],
   "source": [
    "rb_sector_perc.rename(columns = {'user_holding': 'Percentage'}, inplace = True)"
   ]
  },
  {
   "cell_type": "code",
   "execution_count": 244,
   "metadata": {},
   "outputs": [],
   "source": [
    "rb_sector = rb_sector_perc[rb_sector_perc.sector != 'ETF']"
   ]
  },
  {
   "cell_type": "code",
   "execution_count": 245,
   "metadata": {},
   "outputs": [
    {
     "data": {
      "text/plain": [
       "Text(0.5, 1.0, 'Sectors of Top 200 Robinhood stocks Before and After Covid')"
      ]
     },
     "execution_count": 245,
     "metadata": {},
     "output_type": "execute_result"
    },
    {
     "data": {
      "image/png": "[encoded data removed]",
      "text/plain": [
       "<Figure size 432x288 with 1 Axes>"
      ]
     },
     "metadata": {
      "needs_background": "light"
     },
     "output_type": "display_data"
    }
   ],
   "source": [
    "sns.barplot(y = 'sector', x = 'Percentage', data = rb_sector, hue = 'Covid')\n",
    "plt.title(\"Sectors of Top 200 Robinhood stocks Before and After Covid\")"
   ]
  },
  {
   "cell_type": "code",
   "execution_count": 60,
   "metadata": {},
   "outputs": [],
   "source": [
    "rb_top_200 = pd.concat([rb_top_200_bc_df, rb_top_200_ac_df], axis = 0)"
   ]
  },
  {
   "cell_type": "code",
   "execution_count": 61,
   "metadata": {},
   "outputs": [],
   "source": [
    "rb_top_200['Covid'] = ['pre'] * 200 + ['post'] * 200"
   ]
  },
  {
   "cell_type": "code",
   "execution_count": 62,
   "metadata": {},
   "outputs": [
    {
     "data": {
      "text/html": [
       "<div>\n",
       "<style scoped>\n",
       "    .dataframe tbody tr th:only-of-type {\n",
       "        vertical-align: middle;\n",
       "    }\n",
       "\n",
       "    .dataframe tbody tr th {\n",
       "        vertical-align: top;\n",
       "    }\n",
       "\n",
       "    .dataframe thead th {\n",
       "        text-align: right;\n",
       "    }\n",
       "</style>\n",
       "<table border=\"1\" class=\"dataframe\">\n",
       "  <thead>\n",
       "    <tr style=\"text-align: right;\">\n",
       "      <th></th>\n",
       "      <th>user_holding</th>\n",
       "      <th>sector</th>\n",
       "      <th>Covid</th>\n",
       "    </tr>\n",
       "  </thead>\n",
       "  <tbody>\n",
       "    <tr>\n",
       "      <th>AAL</th>\n",
       "      <td>9937.0</td>\n",
       "      <td>Transportation</td>\n",
       "      <td>pre</td>\n",
       "    </tr>\n",
       "    <tr>\n",
       "      <th>AAPL</th>\n",
       "      <td>217546.0</td>\n",
       "      <td>Technology</td>\n",
       "      <td>pre</td>\n",
       "    </tr>\n",
       "    <tr>\n",
       "      <th>ABBV</th>\n",
       "      <td>19788.0</td>\n",
       "      <td>Health Care</td>\n",
       "      <td>pre</td>\n",
       "    </tr>\n",
       "    <tr>\n",
       "      <th>ADBE</th>\n",
       "      <td>12283.0</td>\n",
       "      <td>Technology</td>\n",
       "      <td>pre</td>\n",
       "    </tr>\n",
       "    <tr>\n",
       "      <th>AGFS</th>\n",
       "      <td>8044.0</td>\n",
       "      <td>Finance</td>\n",
       "      <td>pre</td>\n",
       "    </tr>\n",
       "  </tbody>\n",
       "</table>\n",
       "</div>"
      ],
      "text/plain": [
       "      user_holding          sector Covid\n",
       "AAL         9937.0  Transportation   pre\n",
       "AAPL      217546.0      Technology   pre\n",
       "ABBV       19788.0     Health Care   pre\n",
       "ADBE       12283.0      Technology   pre\n",
       "AGFS        8044.0         Finance   pre"
      ]
     },
     "execution_count": 62,
     "metadata": {},
     "output_type": "execute_result"
    }
   ],
   "source": [
    "rb_top_200.head()"
   ]
  },
  {
   "cell_type": "code",
   "execution_count": 68,
   "metadata": {},
   "outputs": [],
   "source": [
    "bc_date = pd.to_datetime('2019-8-13')"
   ]
  },
  {
   "cell_type": "code",
   "execution_count": 78,
   "metadata": {},
   "outputs": [
    {
     "data": {
      "text/plain": [
       "numpy.datetime64('2020-08-13T21:00:00.000000000')"
      ]
     },
     "execution_count": 78,
     "metadata": {},
     "output_type": "execute_result"
    }
   ],
   "source": [
    "final_user_df.index.values[-1]"
   ]
  },
  {
   "cell_type": "code",
   "execution_count": 79,
   "metadata": {},
   "outputs": [],
   "source": [
    "last_date = pd.to_datetime('2020-08-13')"
   ]
  },
  {
   "cell_type": "code",
   "execution_count": 80,
   "metadata": {},
   "outputs": [],
   "source": [
    "rb_top_200['Date'] = [bc_date] * 200 + [last_date] * 200"
   ]
  },
  {
   "cell_type": "code",
   "execution_count": 81,
   "metadata": {},
   "outputs": [
    {
     "data": {
      "text/html": [
       "<div>\n",
       "<style scoped>\n",
       "    .dataframe tbody tr th:only-of-type {\n",
       "        vertical-align: middle;\n",
       "    }\n",
       "\n",
       "    .dataframe tbody tr th {\n",
       "        vertical-align: top;\n",
       "    }\n",
       "\n",
       "    .dataframe thead th {\n",
       "        text-align: right;\n",
       "    }\n",
       "</style>\n",
       "<table border=\"1\" class=\"dataframe\">\n",
       "  <thead>\n",
       "    <tr style=\"text-align: right;\">\n",
       "      <th></th>\n",
       "      <th>user_holding</th>\n",
       "      <th>sector</th>\n",
       "      <th>Covid</th>\n",
       "      <th>Date</th>\n",
       "    </tr>\n",
       "  </thead>\n",
       "  <tbody>\n",
       "    <tr>\n",
       "      <th>AAL</th>\n",
       "      <td>9937.0</td>\n",
       "      <td>Transportation</td>\n",
       "      <td>pre</td>\n",
       "      <td>2019-08-13</td>\n",
       "    </tr>\n",
       "    <tr>\n",
       "      <th>AAPL</th>\n",
       "      <td>217546.0</td>\n",
       "      <td>Technology</td>\n",
       "      <td>pre</td>\n",
       "      <td>2019-08-13</td>\n",
       "    </tr>\n",
       "    <tr>\n",
       "      <th>ABBV</th>\n",
       "      <td>19788.0</td>\n",
       "      <td>Health Care</td>\n",
       "      <td>pre</td>\n",
       "      <td>2019-08-13</td>\n",
       "    </tr>\n",
       "    <tr>\n",
       "      <th>ADBE</th>\n",
       "      <td>12283.0</td>\n",
       "      <td>Technology</td>\n",
       "      <td>pre</td>\n",
       "      <td>2019-08-13</td>\n",
       "    </tr>\n",
       "    <tr>\n",
       "      <th>AGFS</th>\n",
       "      <td>8044.0</td>\n",
       "      <td>Finance</td>\n",
       "      <td>pre</td>\n",
       "      <td>2019-08-13</td>\n",
       "    </tr>\n",
       "  </tbody>\n",
       "</table>\n",
       "</div>"
      ],
      "text/plain": [
       "      user_holding          sector Covid       Date\n",
       "AAL         9937.0  Transportation   pre 2019-08-13\n",
       "AAPL      217546.0      Technology   pre 2019-08-13\n",
       "ABBV       19788.0     Health Care   pre 2019-08-13\n",
       "ADBE       12283.0      Technology   pre 2019-08-13\n",
       "AGFS        8044.0         Finance   pre 2019-08-13"
      ]
     },
     "execution_count": 81,
     "metadata": {},
     "output_type": "execute_result"
    }
   ],
   "source": [
    "rb_top_200.head()"
   ]
  },
  {
   "cell_type": "code",
   "execution_count": 82,
   "metadata": {},
   "outputs": [],
   "source": [
    "rb_top_200.to_csv(cwd + '/data/robinhood_top_200.csv', index = True, header = True)"
   ]
  },
  {
   "cell_type": "code",
   "execution_count": 221,
   "metadata": {},
   "outputs": [
    {
     "data": {
      "text/plain": [
       "AAL     2.673087\n",
       "AAL     0.143603\n",
       "AAPL    3.061836\n",
       "AAPL    3.143824\n",
       "ABBV    0.189458\n",
       "          ...   \n",
       "VXRT    0.302584\n",
       "WLL     0.194819\n",
       "WPG     0.209251\n",
       "WYNN    0.129470\n",
       "ZOM     0.232670\n",
       "Name: user_holding, Length: 400, dtype: float64"
      ]
     },
     "execution_count": 221,
     "metadata": {},
     "output_type": "execute_result"
    }
   ],
   "source": [
    "rb_top_200.groupby('Covid')['user_holding'].apply(lambda x: 100*x/x.sum())"
   ]
  },
  {
   "cell_type": "code",
   "execution_count": null,
   "metadata": {},
   "outputs": [],
   "source": [
    "rb_top_200.groupby('')"
   ]
  },
  {
   "cell_type": "code",
   "execution_count": 219,
   "metadata": {},
   "outputs": [
    {
     "data": {
      "text/html": [
       "<div>\n",
       "<style scoped>\n",
       "    .dataframe tbody tr th:only-of-type {\n",
       "        vertical-align: middle;\n",
       "    }\n",
       "\n",
       "    .dataframe tbody tr th {\n",
       "        vertical-align: top;\n",
       "    }\n",
       "\n",
       "    .dataframe thead th {\n",
       "        text-align: right;\n",
       "    }\n",
       "</style>\n",
       "<table border=\"1\" class=\"dataframe\">\n",
       "  <thead>\n",
       "    <tr style=\"text-align: right;\">\n",
       "      <th></th>\n",
       "      <th>user_holding</th>\n",
       "      <th>sector</th>\n",
       "      <th>Covid</th>\n",
       "    </tr>\n",
       "  </thead>\n",
       "  <tbody>\n",
       "    <tr>\n",
       "      <th>AAL</th>\n",
       "      <td>9937.0</td>\n",
       "      <td>Transportation</td>\n",
       "      <td>pre</td>\n",
       "    </tr>\n",
       "    <tr>\n",
       "      <th>AAPL</th>\n",
       "      <td>217546.0</td>\n",
       "      <td>Technology</td>\n",
       "      <td>pre</td>\n",
       "    </tr>\n",
       "    <tr>\n",
       "      <th>ABBV</th>\n",
       "      <td>19788.0</td>\n",
       "      <td>Health Care</td>\n",
       "      <td>pre</td>\n",
       "    </tr>\n",
       "    <tr>\n",
       "      <th>ADBE</th>\n",
       "      <td>12283.0</td>\n",
       "      <td>Technology</td>\n",
       "      <td>pre</td>\n",
       "    </tr>\n",
       "    <tr>\n",
       "      <th>AGFS</th>\n",
       "      <td>8044.0</td>\n",
       "      <td>Finance</td>\n",
       "      <td>pre</td>\n",
       "    </tr>\n",
       "  </tbody>\n",
       "</table>\n",
       "</div>"
      ],
      "text/plain": [
       "      user_holding          sector Covid\n",
       "AAL         9937.0  Transportation   pre\n",
       "AAPL      217546.0      Technology   pre\n",
       "ABBV       19788.0     Health Care   pre\n",
       "ADBE       12283.0      Technology   pre\n",
       "AGFS        8044.0         Finance   pre"
      ]
     },
     "execution_count": 219,
     "metadata": {},
     "output_type": "execute_result"
    }
   ],
   "source": [
    "rb_top_200.head()"
   ]
  },
  {
   "cell_type": "code",
   "execution_count": 212,
   "metadata": {
    "scrolled": true
   },
   "outputs": [
    {
     "data": {
      "text/plain": [
       "<matplotlib.axes._subplots.AxesSubplot at 0x119c1bbd0>"
      ]
     },
     "execution_count": 212,
     "metadata": {},
     "output_type": "execute_result"
    },
    {
     "data": {
      "image/png": "[encoded data removed]",
      "text/plain": [
       "<Figure size 432x288 with 1 Axes>"
      ]
     },
     "metadata": {
      "needs_background": "light"
     },
     "output_type": "display_data"
    }
   ],
   "source": [
    "sns.countplot(y = 'sector', hue = 'Covid', data = rb_top_200.sort_values(by = 'sector'))"
   ]
  },
  {
   "cell_type": "markdown",
   "metadata": {},
   "source": [
    "Makes sense that only 15 out of 200 stocks \"leave\" the top 200 status in one year, and there's barely any difference in the sector composition of the top 200 stocks."
   ]
  },
  {
   "cell_type": "code",
   "execution_count": 176,
   "metadata": {},
   "outputs": [
    {
     "data": {
      "text/html": [
       "<div>\n",
       "<style scoped>\n",
       "    .dataframe tbody tr th:only-of-type {\n",
       "        vertical-align: middle;\n",
       "    }\n",
       "\n",
       "    .dataframe tbody tr th {\n",
       "        vertical-align: top;\n",
       "    }\n",
       "\n",
       "    .dataframe thead th {\n",
       "        text-align: right;\n",
       "    }\n",
       "</style>\n",
       "<table border=\"1\" class=\"dataframe\">\n",
       "  <thead>\n",
       "    <tr style=\"text-align: right;\">\n",
       "      <th></th>\n",
       "      <th>user_holding</th>\n",
       "      <th>sector</th>\n",
       "    </tr>\n",
       "  </thead>\n",
       "  <tbody>\n",
       "    <tr>\n",
       "      <th>AAL</th>\n",
       "      <td>637706.0</td>\n",
       "      <td>Transportation</td>\n",
       "    </tr>\n",
       "    <tr>\n",
       "      <th>AAPL</th>\n",
       "      <td>730448.0</td>\n",
       "      <td>Technology</td>\n",
       "    </tr>\n",
       "    <tr>\n",
       "      <th>ABBV</th>\n",
       "      <td>45198.0</td>\n",
       "      <td>Health Care</td>\n",
       "    </tr>\n",
       "    <tr>\n",
       "      <th>ADT</th>\n",
       "      <td>39882.0</td>\n",
       "      <td>Consumer Services</td>\n",
       "    </tr>\n",
       "    <tr>\n",
       "      <th>ALK</th>\n",
       "      <td>55611.0</td>\n",
       "      <td>Transportation</td>\n",
       "    </tr>\n",
       "  </tbody>\n",
       "</table>\n",
       "</div>"
      ],
      "text/plain": [
       "      user_holding             sector\n",
       "AAL       637706.0     Transportation\n",
       "AAPL      730448.0         Technology\n",
       "ABBV       45198.0        Health Care\n",
       "ADT        39882.0  Consumer Services\n",
       "ALK        55611.0     Transportation"
      ]
     },
     "execution_count": 176,
     "metadata": {},
     "output_type": "execute_result"
    }
   ],
   "source": [
    "rb_top_200_ac_df.head()"
   ]
  },
  {
   "cell_type": "code",
   "execution_count": 186,
   "metadata": {},
   "outputs": [
    {
     "data": {
      "text/plain": [
       "F                            Auto Manufacturing\n",
       "GE              Consumer Electronics/Appliances\n",
       "AAPL                     Computer Manufacturing\n",
       "MSFT    Computer Software: Prepackaged Software\n",
       "AAL               Air Freight/Delivery Services\n",
       "                         ...                   \n",
       "TEVA                      Major Pharmaceuticals\n",
       "BOXL                    Other Consumer Services\n",
       "WYNN                             Hotels/Resorts\n",
       "HD                   RETAIL: Building Materials\n",
       "MO                        Farming/Seeds/Milling\n",
       "Length: 170, dtype: object"
      ]
     },
     "execution_count": 186,
     "metadata": {},
     "output_type": "execute_result"
    }
   ],
   "source": [
    "ac_industry"
   ]
  },
  {
   "cell_type": "code",
   "execution_count": 192,
   "metadata": {},
   "outputs": [
    {
     "data": {
      "text/html": [
       "<div>\n",
       "<style scoped>\n",
       "    .dataframe tbody tr th:only-of-type {\n",
       "        vertical-align: middle;\n",
       "    }\n",
       "\n",
       "    .dataframe tbody tr th {\n",
       "        vertical-align: top;\n",
       "    }\n",
       "\n",
       "    .dataframe thead th {\n",
       "        text-align: right;\n",
       "    }\n",
       "</style>\n",
       "<table border=\"1\" class=\"dataframe\">\n",
       "  <thead>\n",
       "    <tr style=\"text-align: right;\">\n",
       "      <th></th>\n",
       "      <th>user_holding</th>\n",
       "      <th>sector</th>\n",
       "    </tr>\n",
       "  </thead>\n",
       "  <tbody>\n",
       "    <tr>\n",
       "      <th>AKS</th>\n",
       "      <td>24474.0</td>\n",
       "      <td>NaN</td>\n",
       "    </tr>\n",
       "    <tr>\n",
       "      <th>ARQL</th>\n",
       "      <td>7763.0</td>\n",
       "      <td>NaN</td>\n",
       "    </tr>\n",
       "    <tr>\n",
       "      <th>ASM</th>\n",
       "      <td>8773.0</td>\n",
       "      <td>NaN</td>\n",
       "    </tr>\n",
       "    <tr>\n",
       "      <th>BOTZ</th>\n",
       "      <td>19815.0</td>\n",
       "      <td>NaN</td>\n",
       "    </tr>\n",
       "    <tr>\n",
       "      <th>BTG</th>\n",
       "      <td>8554.0</td>\n",
       "      <td>NaN</td>\n",
       "    </tr>\n",
       "    <tr>\n",
       "      <th>CTL</th>\n",
       "      <td>11994.0</td>\n",
       "      <td>NaN</td>\n",
       "    </tr>\n",
       "    <tr>\n",
       "      <th>CY</th>\n",
       "      <td>9697.0</td>\n",
       "      <td>NaN</td>\n",
       "    </tr>\n",
       "    <tr>\n",
       "      <th>DNR</th>\n",
       "      <td>27974.0</td>\n",
       "      <td>NaN</td>\n",
       "    </tr>\n",
       "    <tr>\n",
       "      <th>GNMX</th>\n",
       "      <td>7958.0</td>\n",
       "      <td>NaN</td>\n",
       "    </tr>\n",
       "    <tr>\n",
       "      <th>GSAT</th>\n",
       "      <td>10319.0</td>\n",
       "      <td>NaN</td>\n",
       "    </tr>\n",
       "    <tr>\n",
       "      <th>HUSA</th>\n",
       "      <td>16009.0</td>\n",
       "      <td>NaN</td>\n",
       "    </tr>\n",
       "    <tr>\n",
       "      <th>IGC</th>\n",
       "      <td>54560.0</td>\n",
       "      <td>NaN</td>\n",
       "    </tr>\n",
       "    <tr>\n",
       "      <th>JCPNQ</th>\n",
       "      <td>33068.0</td>\n",
       "      <td>NaN</td>\n",
       "    </tr>\n",
       "    <tr>\n",
       "      <th>MJ</th>\n",
       "      <td>37339.0</td>\n",
       "      <td>NaN</td>\n",
       "    </tr>\n",
       "    <tr>\n",
       "      <th>NAK</th>\n",
       "      <td>16941.0</td>\n",
       "      <td>NaN</td>\n",
       "    </tr>\n",
       "    <tr>\n",
       "      <th>NGD</th>\n",
       "      <td>10510.0</td>\n",
       "      <td>NaN</td>\n",
       "    </tr>\n",
       "    <tr>\n",
       "      <th>NOG</th>\n",
       "      <td>11655.0</td>\n",
       "      <td>NaN</td>\n",
       "    </tr>\n",
       "    <tr>\n",
       "      <th>OGEN</th>\n",
       "      <td>40716.0</td>\n",
       "      <td>NaN</td>\n",
       "    </tr>\n",
       "    <tr>\n",
       "      <th>PSEC</th>\n",
       "      <td>16964.0</td>\n",
       "      <td>NaN</td>\n",
       "    </tr>\n",
       "    <tr>\n",
       "      <th>PTN</th>\n",
       "      <td>11424.0</td>\n",
       "      <td>NaN</td>\n",
       "    </tr>\n",
       "    <tr>\n",
       "      <th>RBS</th>\n",
       "      <td>8587.0</td>\n",
       "      <td>NaN</td>\n",
       "    </tr>\n",
       "    <tr>\n",
       "      <th>S</th>\n",
       "      <td>59620.0</td>\n",
       "      <td>NaN</td>\n",
       "    </tr>\n",
       "    <tr>\n",
       "      <th>SENS</th>\n",
       "      <td>9131.0</td>\n",
       "      <td>NaN</td>\n",
       "    </tr>\n",
       "    <tr>\n",
       "      <th>SPHD</th>\n",
       "      <td>13946.0</td>\n",
       "      <td>NaN</td>\n",
       "    </tr>\n",
       "    <tr>\n",
       "      <th>SPY</th>\n",
       "      <td>38469.0</td>\n",
       "      <td>NaN</td>\n",
       "    </tr>\n",
       "    <tr>\n",
       "      <th>SPYG</th>\n",
       "      <td>10987.0</td>\n",
       "      <td>NaN</td>\n",
       "    </tr>\n",
       "    <tr>\n",
       "      <th>TQQQ</th>\n",
       "      <td>9040.0</td>\n",
       "      <td>NaN</td>\n",
       "    </tr>\n",
       "    <tr>\n",
       "      <th>VGT</th>\n",
       "      <td>8539.0</td>\n",
       "      <td>NaN</td>\n",
       "    </tr>\n",
       "    <tr>\n",
       "      <th>VNQ</th>\n",
       "      <td>10653.0</td>\n",
       "      <td>NaN</td>\n",
       "    </tr>\n",
       "    <tr>\n",
       "      <th>VOO</th>\n",
       "      <td>49955.0</td>\n",
       "      <td>NaN</td>\n",
       "    </tr>\n",
       "    <tr>\n",
       "      <th>VTI</th>\n",
       "      <td>28827.0</td>\n",
       "      <td>NaN</td>\n",
       "    </tr>\n",
       "    <tr>\n",
       "      <th>VWO</th>\n",
       "      <td>11882.0</td>\n",
       "      <td>NaN</td>\n",
       "    </tr>\n",
       "    <tr>\n",
       "      <th>VYM</th>\n",
       "      <td>14565.0</td>\n",
       "      <td>NaN</td>\n",
       "    </tr>\n",
       "    <tr>\n",
       "      <th>XXII</th>\n",
       "      <td>50043.0</td>\n",
       "      <td>NaN</td>\n",
       "    </tr>\n",
       "    <tr>\n",
       "      <th>ZN</th>\n",
       "      <td>11388.0</td>\n",
       "      <td>NaN</td>\n",
       "    </tr>\n",
       "  </tbody>\n",
       "</table>\n",
       "</div>"
      ],
      "text/plain": [
       "       user_holding sector\n",
       "AKS         24474.0    NaN\n",
       "ARQL         7763.0    NaN\n",
       "ASM          8773.0    NaN\n",
       "BOTZ        19815.0    NaN\n",
       "BTG          8554.0    NaN\n",
       "CTL         11994.0    NaN\n",
       "CY           9697.0    NaN\n",
       "DNR         27974.0    NaN\n",
       "GNMX         7958.0    NaN\n",
       "GSAT        10319.0    NaN\n",
       "HUSA        16009.0    NaN\n",
       "IGC         54560.0    NaN\n",
       "JCPNQ       33068.0    NaN\n",
       "MJ          37339.0    NaN\n",
       "NAK         16941.0    NaN\n",
       "NGD         10510.0    NaN\n",
       "NOG         11655.0    NaN\n",
       "OGEN        40716.0    NaN\n",
       "PSEC        16964.0    NaN\n",
       "PTN         11424.0    NaN\n",
       "RBS          8587.0    NaN\n",
       "S           59620.0    NaN\n",
       "SENS         9131.0    NaN\n",
       "SPHD        13946.0    NaN\n",
       "SPY         38469.0    NaN\n",
       "SPYG        10987.0    NaN\n",
       "TQQQ         9040.0    NaN\n",
       "VGT          8539.0    NaN\n",
       "VNQ         10653.0    NaN\n",
       "VOO         49955.0    NaN\n",
       "VTI         28827.0    NaN\n",
       "VWO         11882.0    NaN\n",
       "VYM         14565.0    NaN\n",
       "XXII        50043.0    NaN\n",
       "ZN          11388.0    NaN"
      ]
     },
     "execution_count": 192,
     "metadata": {},
     "output_type": "execute_result"
    }
   ],
   "source": [
    "rb_top_200_bc_df.loc[rb_top_200_bc_df['sector'].isna()]"
   ]
  },
  {
   "cell_type": "code",
   "execution_count": 268,
   "metadata": {
    "scrolled": true
   },
   "outputs": [
    {
     "data": {
      "text/html": [
       "<div>\n",
       "<style scoped>\n",
       "    .dataframe tbody tr th:only-of-type {\n",
       "        vertical-align: middle;\n",
       "    }\n",
       "\n",
       "    .dataframe tbody tr th {\n",
       "        vertical-align: top;\n",
       "    }\n",
       "\n",
       "    .dataframe thead th {\n",
       "        text-align: right;\n",
       "    }\n",
       "</style>\n",
       "<table border=\"1\" class=\"dataframe\">\n",
       "  <thead>\n",
       "    <tr style=\"text-align: right;\">\n",
       "      <th></th>\n",
       "      <th>AACG</th>\n",
       "      <th>AAL</th>\n",
       "      <th>AAME</th>\n",
       "      <th>AAN</th>\n",
       "      <th>AAOI</th>\n",
       "      <th>AAON</th>\n",
       "      <th>AAP</th>\n",
       "      <th>AAPL</th>\n",
       "      <th>AAT</th>\n",
       "      <th>AAU</th>\n",
       "    </tr>\n",
       "    <tr>\n",
       "      <th>timestamp</th>\n",
       "      <th></th>\n",
       "      <th></th>\n",
       "      <th></th>\n",
       "      <th></th>\n",
       "      <th></th>\n",
       "      <th></th>\n",
       "      <th></th>\n",
       "      <th></th>\n",
       "      <th></th>\n",
       "      <th></th>\n",
       "    </tr>\n",
       "  </thead>\n",
       "  <tbody>\n",
       "    <tr>\n",
       "      <th>2018-05-02 00:00:00-04:00</th>\n",
       "      <td>55.000000</td>\n",
       "      <td>3755.000000</td>\n",
       "      <td>119.000000</td>\n",
       "      <td>110.0</td>\n",
       "      <td>2711.000000</td>\n",
       "      <td>71.0</td>\n",
       "      <td>302.000000</td>\n",
       "      <td>150785.000000</td>\n",
       "      <td>46.000000</td>\n",
       "      <td>469.000000</td>\n",
       "    </tr>\n",
       "    <tr>\n",
       "      <th>2018-05-02 01:00:00-04:00</th>\n",
       "      <td>55.000000</td>\n",
       "      <td>3755.000000</td>\n",
       "      <td>119.000000</td>\n",
       "      <td>110.0</td>\n",
       "      <td>2711.000000</td>\n",
       "      <td>71.0</td>\n",
       "      <td>302.000000</td>\n",
       "      <td>150785.000000</td>\n",
       "      <td>46.000000</td>\n",
       "      <td>469.000000</td>\n",
       "    </tr>\n",
       "    <tr>\n",
       "      <th>2018-05-02 02:00:00-04:00</th>\n",
       "      <td>55.055556</td>\n",
       "      <td>3756.166667</td>\n",
       "      <td>118.944444</td>\n",
       "      <td>110.0</td>\n",
       "      <td>2711.444444</td>\n",
       "      <td>71.0</td>\n",
       "      <td>301.666667</td>\n",
       "      <td>150491.944444</td>\n",
       "      <td>46.111111</td>\n",
       "      <td>468.944444</td>\n",
       "    </tr>\n",
       "    <tr>\n",
       "      <th>2018-05-02 03:00:00-04:00</th>\n",
       "      <td>55.111111</td>\n",
       "      <td>3757.333333</td>\n",
       "      <td>118.888889</td>\n",
       "      <td>110.0</td>\n",
       "      <td>2711.888889</td>\n",
       "      <td>71.0</td>\n",
       "      <td>301.333333</td>\n",
       "      <td>150198.888889</td>\n",
       "      <td>46.222222</td>\n",
       "      <td>468.888889</td>\n",
       "    </tr>\n",
       "    <tr>\n",
       "      <th>2018-05-02 04:00:00-04:00</th>\n",
       "      <td>55.166667</td>\n",
       "      <td>3758.500000</td>\n",
       "      <td>118.833333</td>\n",
       "      <td>110.0</td>\n",
       "      <td>2712.333333</td>\n",
       "      <td>71.0</td>\n",
       "      <td>301.000000</td>\n",
       "      <td>149905.833333</td>\n",
       "      <td>46.333333</td>\n",
       "      <td>468.833333</td>\n",
       "    </tr>\n",
       "  </tbody>\n",
       "</table>\n",
       "</div>"
      ],
      "text/plain": [
       "                                AACG          AAL        AAME    AAN  \\\n",
       "timestamp                                                              \n",
       "2018-05-02 00:00:00-04:00  55.000000  3755.000000  119.000000  110.0   \n",
       "2018-05-02 01:00:00-04:00  55.000000  3755.000000  119.000000  110.0   \n",
       "2018-05-02 02:00:00-04:00  55.055556  3756.166667  118.944444  110.0   \n",
       "2018-05-02 03:00:00-04:00  55.111111  3757.333333  118.888889  110.0   \n",
       "2018-05-02 04:00:00-04:00  55.166667  3758.500000  118.833333  110.0   \n",
       "\n",
       "                                  AAOI  AAON         AAP           AAPL  \\\n",
       "timestamp                                                                 \n",
       "2018-05-02 00:00:00-04:00  2711.000000  71.0  302.000000  150785.000000   \n",
       "2018-05-02 01:00:00-04:00  2711.000000  71.0  302.000000  150785.000000   \n",
       "2018-05-02 02:00:00-04:00  2711.444444  71.0  301.666667  150491.944444   \n",
       "2018-05-02 03:00:00-04:00  2711.888889  71.0  301.333333  150198.888889   \n",
       "2018-05-02 04:00:00-04:00  2712.333333  71.0  301.000000  149905.833333   \n",
       "\n",
       "                                 AAT         AAU  \n",
       "timestamp                                         \n",
       "2018-05-02 00:00:00-04:00  46.000000  469.000000  \n",
       "2018-05-02 01:00:00-04:00  46.000000  469.000000  \n",
       "2018-05-02 02:00:00-04:00  46.111111  468.944444  \n",
       "2018-05-02 03:00:00-04:00  46.222222  468.888889  \n",
       "2018-05-02 04:00:00-04:00  46.333333  468.833333  "
      ]
     },
     "execution_count": 268,
     "metadata": {},
     "output_type": "execute_result"
    }
   ],
   "source": [
    "final_user_df[sorted(final_user_df)[:10]].head()"
   ]
  },
  {
   "cell_type": "markdown",
   "metadata": {},
   "source": [
    "### Make the Growth Plot of Top 20 Most Popular Stocks by sector"
   ]
  },
  {
   "cell_type": "code",
   "execution_count": 279,
   "metadata": {},
   "outputs": [],
   "source": [
    "top_10 = last_day.nlargest(10)"
   ]
  },
  {
   "cell_type": "code",
   "execution_count": 280,
   "metadata": {},
   "outputs": [],
   "source": [
    "top_10_sector, top_10_industry = get_sector_industry(top_10.index.values)"
   ]
  },
  {
   "cell_type": "code",
   "execution_count": 281,
   "metadata": {},
   "outputs": [
    {
     "data": {
      "text/plain": [
       "F           Capital Goods\n",
       "GE                 Energy\n",
       "AAPL           Technology\n",
       "MSFT           Technology\n",
       "AAL        Transportation\n",
       "DIS     Consumer Services\n",
       "DAL        Transportation\n",
       "TSLA        Capital Goods\n",
       "CCL     Consumer Services\n",
       "GPRO        Miscellaneous\n",
       "dtype: object"
      ]
     },
     "execution_count": 281,
     "metadata": {},
     "output_type": "execute_result"
    }
   ],
   "source": [
    "top_10_sector"
   ]
  },
  {
   "cell_type": "code",
   "execution_count": 282,
   "metadata": {},
   "outputs": [],
   "source": [
    "sector = ['Capital Goods', 'Capital Goods', 'Technology', 'Technology', 'Transportation', 'Entertainment', 'Transportation', 'Capital Goods', 'Transportation', 'Miscellaneous']"
   ]
  },
  {
   "cell_type": "code",
   "execution_count": 285,
   "metadata": {},
   "outputs": [
    {
     "name": "stderr",
     "output_type": "stream",
     "text": [
      "/Users/leeyujin/Environments/research/lib/python3.7/site-packages/ipykernel_launcher.py:2: SettingWithCopyWarning: \n",
      "A value is trying to be set on a copy of a slice from a DataFrame.\n",
      "Try using .loc[row_indexer,col_indexer] = value instead\n",
      "\n",
      "See the caveats in the documentation: https://pandas.pydata.org/pandas-docs/stable/user_guide/indexing.html#returning-a-view-versus-a-copy\n",
      "  \n"
     ]
    }
   ],
   "source": [
    "top_10_tickers = final_user_df[top_10_sector.index.values]\n",
    "top_10_tickers['timestamp'] = top_10_tickers.index.values"
   ]
  },
  {
   "cell_type": "code",
   "execution_count": 287,
   "metadata": {},
   "outputs": [
    {
     "data": {
      "text/html": [
       "<div>\n",
       "<style scoped>\n",
       "    .dataframe tbody tr th:only-of-type {\n",
       "        vertical-align: middle;\n",
       "    }\n",
       "\n",
       "    .dataframe tbody tr th {\n",
       "        vertical-align: top;\n",
       "    }\n",
       "\n",
       "    .dataframe thead th {\n",
       "        text-align: right;\n",
       "    }\n",
       "</style>\n",
       "<table border=\"1\" class=\"dataframe\">\n",
       "  <thead>\n",
       "    <tr style=\"text-align: right;\">\n",
       "      <th></th>\n",
       "      <th>F</th>\n",
       "      <th>GE</th>\n",
       "      <th>AAPL</th>\n",
       "      <th>MSFT</th>\n",
       "      <th>AAL</th>\n",
       "      <th>DIS</th>\n",
       "      <th>DAL</th>\n",
       "      <th>TSLA</th>\n",
       "      <th>CCL</th>\n",
       "      <th>GPRO</th>\n",
       "      <th>timestamp</th>\n",
       "    </tr>\n",
       "    <tr>\n",
       "      <th>timestamp</th>\n",
       "      <th></th>\n",
       "      <th></th>\n",
       "      <th></th>\n",
       "      <th></th>\n",
       "      <th></th>\n",
       "      <th></th>\n",
       "      <th></th>\n",
       "      <th></th>\n",
       "      <th></th>\n",
       "      <th></th>\n",
       "      <th></th>\n",
       "    </tr>\n",
       "  </thead>\n",
       "  <tbody>\n",
       "    <tr>\n",
       "      <th>2018-05-02 00:00:00-04:00</th>\n",
       "      <td>131071.000000</td>\n",
       "      <td>134735.000000</td>\n",
       "      <td>150785.000000</td>\n",
       "      <td>112514.000000</td>\n",
       "      <td>3755.000000</td>\n",
       "      <td>59936.000000</td>\n",
       "      <td>7835.00</td>\n",
       "      <td>81038.000000</td>\n",
       "      <td>1003.000000</td>\n",
       "      <td>114106.000000</td>\n",
       "      <td>2018-05-02 04:00:00</td>\n",
       "    </tr>\n",
       "    <tr>\n",
       "      <th>2018-05-02 01:00:00-04:00</th>\n",
       "      <td>131071.000000</td>\n",
       "      <td>134735.000000</td>\n",
       "      <td>150785.000000</td>\n",
       "      <td>112514.000000</td>\n",
       "      <td>3755.000000</td>\n",
       "      <td>59936.000000</td>\n",
       "      <td>7835.00</td>\n",
       "      <td>81038.000000</td>\n",
       "      <td>1003.000000</td>\n",
       "      <td>114106.000000</td>\n",
       "      <td>2018-05-02 05:00:00</td>\n",
       "    </tr>\n",
       "    <tr>\n",
       "      <th>2018-05-02 02:00:00-04:00</th>\n",
       "      <td>131076.388889</td>\n",
       "      <td>134721.944444</td>\n",
       "      <td>150491.944444</td>\n",
       "      <td>112547.222222</td>\n",
       "      <td>3756.166667</td>\n",
       "      <td>59936.777778</td>\n",
       "      <td>7836.00</td>\n",
       "      <td>80987.944444</td>\n",
       "      <td>1002.888889</td>\n",
       "      <td>114103.888889</td>\n",
       "      <td>2018-05-02 06:00:00</td>\n",
       "    </tr>\n",
       "    <tr>\n",
       "      <th>2018-05-02 03:00:00-04:00</th>\n",
       "      <td>131081.777778</td>\n",
       "      <td>134708.888889</td>\n",
       "      <td>150198.888889</td>\n",
       "      <td>112580.444444</td>\n",
       "      <td>3757.333333</td>\n",
       "      <td>59937.555556</td>\n",
       "      <td>7837.00</td>\n",
       "      <td>80937.888889</td>\n",
       "      <td>1002.777778</td>\n",
       "      <td>114101.777778</td>\n",
       "      <td>2018-05-02 07:00:00</td>\n",
       "    </tr>\n",
       "    <tr>\n",
       "      <th>2018-05-02 04:00:00-04:00</th>\n",
       "      <td>131087.166667</td>\n",
       "      <td>134695.833333</td>\n",
       "      <td>149905.833333</td>\n",
       "      <td>112613.666667</td>\n",
       "      <td>3758.500000</td>\n",
       "      <td>59938.333333</td>\n",
       "      <td>7838.00</td>\n",
       "      <td>80887.833333</td>\n",
       "      <td>1002.666667</td>\n",
       "      <td>114099.666667</td>\n",
       "      <td>2018-05-02 08:00:00</td>\n",
       "    </tr>\n",
       "    <tr>\n",
       "      <th>...</th>\n",
       "      <td>...</td>\n",
       "      <td>...</td>\n",
       "      <td>...</td>\n",
       "      <td>...</td>\n",
       "      <td>...</td>\n",
       "      <td>...</td>\n",
       "      <td>...</td>\n",
       "      <td>...</td>\n",
       "      <td>...</td>\n",
       "      <td>...</td>\n",
       "      <td>...</td>\n",
       "    </tr>\n",
       "    <tr>\n",
       "      <th>2020-08-13 13:00:00-04:00</th>\n",
       "      <td>911993.000000</td>\n",
       "      <td>857202.000000</td>\n",
       "      <td>728065.000000</td>\n",
       "      <td>653640.500000</td>\n",
       "      <td>637990.000000</td>\n",
       "      <td>598528.500000</td>\n",
       "      <td>572652.50</td>\n",
       "      <td>563729.500000</td>\n",
       "      <td>481635.500000</td>\n",
       "      <td>475046.500000</td>\n",
       "      <td>2020-08-13 17:00:00</td>\n",
       "    </tr>\n",
       "    <tr>\n",
       "      <th>2020-08-13 14:00:00-04:00</th>\n",
       "      <td>911800.500000</td>\n",
       "      <td>857064.000000</td>\n",
       "      <td>729085.500000</td>\n",
       "      <td>653617.250000</td>\n",
       "      <td>637862.000000</td>\n",
       "      <td>598450.750000</td>\n",
       "      <td>572654.25</td>\n",
       "      <td>563607.250000</td>\n",
       "      <td>481623.250000</td>\n",
       "      <td>475047.250000</td>\n",
       "      <td>2020-08-13 18:00:00</td>\n",
       "    </tr>\n",
       "    <tr>\n",
       "      <th>2020-08-13 15:00:00-04:00</th>\n",
       "      <td>911608.000000</td>\n",
       "      <td>856926.000000</td>\n",
       "      <td>730106.000000</td>\n",
       "      <td>653594.000000</td>\n",
       "      <td>637734.000000</td>\n",
       "      <td>598373.000000</td>\n",
       "      <td>572656.00</td>\n",
       "      <td>563485.000000</td>\n",
       "      <td>481611.000000</td>\n",
       "      <td>475048.000000</td>\n",
       "      <td>2020-08-13 19:00:00</td>\n",
       "    </tr>\n",
       "    <tr>\n",
       "      <th>2020-08-13 16:00:00-04:00</th>\n",
       "      <td>911518.000000</td>\n",
       "      <td>856931.000000</td>\n",
       "      <td>730448.000000</td>\n",
       "      <td>653756.000000</td>\n",
       "      <td>637706.000000</td>\n",
       "      <td>598383.000000</td>\n",
       "      <td>572661.00</td>\n",
       "      <td>563667.000000</td>\n",
       "      <td>481632.000000</td>\n",
       "      <td>475039.000000</td>\n",
       "      <td>2020-08-13 20:00:00</td>\n",
       "    </tr>\n",
       "    <tr>\n",
       "      <th>2020-08-13 17:00:00-04:00</th>\n",
       "      <td>911470.000000</td>\n",
       "      <td>856899.000000</td>\n",
       "      <td>730774.000000</td>\n",
       "      <td>653838.000000</td>\n",
       "      <td>637705.000000</td>\n",
       "      <td>598367.000000</td>\n",
       "      <td>572679.00</td>\n",
       "      <td>563621.000000</td>\n",
       "      <td>481631.000000</td>\n",
       "      <td>475051.000000</td>\n",
       "      <td>2020-08-13 21:00:00</td>\n",
       "    </tr>\n",
       "  </tbody>\n",
       "</table>\n",
       "<p>20034 rows × 11 columns</p>\n",
       "</div>"
      ],
      "text/plain": [
       "                                       F             GE           AAPL  \\\n",
       "timestamp                                                                \n",
       "2018-05-02 00:00:00-04:00  131071.000000  134735.000000  150785.000000   \n",
       "2018-05-02 01:00:00-04:00  131071.000000  134735.000000  150785.000000   \n",
       "2018-05-02 02:00:00-04:00  131076.388889  134721.944444  150491.944444   \n",
       "2018-05-02 03:00:00-04:00  131081.777778  134708.888889  150198.888889   \n",
       "2018-05-02 04:00:00-04:00  131087.166667  134695.833333  149905.833333   \n",
       "...                                  ...            ...            ...   \n",
       "2020-08-13 13:00:00-04:00  911993.000000  857202.000000  728065.000000   \n",
       "2020-08-13 14:00:00-04:00  911800.500000  857064.000000  729085.500000   \n",
       "2020-08-13 15:00:00-04:00  911608.000000  856926.000000  730106.000000   \n",
       "2020-08-13 16:00:00-04:00  911518.000000  856931.000000  730448.000000   \n",
       "2020-08-13 17:00:00-04:00  911470.000000  856899.000000  730774.000000   \n",
       "\n",
       "                                    MSFT            AAL            DIS  \\\n",
       "timestamp                                                                \n",
       "2018-05-02 00:00:00-04:00  112514.000000    3755.000000   59936.000000   \n",
       "2018-05-02 01:00:00-04:00  112514.000000    3755.000000   59936.000000   \n",
       "2018-05-02 02:00:00-04:00  112547.222222    3756.166667   59936.777778   \n",
       "2018-05-02 03:00:00-04:00  112580.444444    3757.333333   59937.555556   \n",
       "2018-05-02 04:00:00-04:00  112613.666667    3758.500000   59938.333333   \n",
       "...                                  ...            ...            ...   \n",
       "2020-08-13 13:00:00-04:00  653640.500000  637990.000000  598528.500000   \n",
       "2020-08-13 14:00:00-04:00  653617.250000  637862.000000  598450.750000   \n",
       "2020-08-13 15:00:00-04:00  653594.000000  637734.000000  598373.000000   \n",
       "2020-08-13 16:00:00-04:00  653756.000000  637706.000000  598383.000000   \n",
       "2020-08-13 17:00:00-04:00  653838.000000  637705.000000  598367.000000   \n",
       "\n",
       "                                 DAL           TSLA            CCL  \\\n",
       "timestamp                                                            \n",
       "2018-05-02 00:00:00-04:00    7835.00   81038.000000    1003.000000   \n",
       "2018-05-02 01:00:00-04:00    7835.00   81038.000000    1003.000000   \n",
       "2018-05-02 02:00:00-04:00    7836.00   80987.944444    1002.888889   \n",
       "2018-05-02 03:00:00-04:00    7837.00   80937.888889    1002.777778   \n",
       "2018-05-02 04:00:00-04:00    7838.00   80887.833333    1002.666667   \n",
       "...                              ...            ...            ...   \n",
       "2020-08-13 13:00:00-04:00  572652.50  563729.500000  481635.500000   \n",
       "2020-08-13 14:00:00-04:00  572654.25  563607.250000  481623.250000   \n",
       "2020-08-13 15:00:00-04:00  572656.00  563485.000000  481611.000000   \n",
       "2020-08-13 16:00:00-04:00  572661.00  563667.000000  481632.000000   \n",
       "2020-08-13 17:00:00-04:00  572679.00  563621.000000  481631.000000   \n",
       "\n",
       "                                    GPRO           timestamp  \n",
       "timestamp                                                     \n",
       "2018-05-02 00:00:00-04:00  114106.000000 2018-05-02 04:00:00  \n",
       "2018-05-02 01:00:00-04:00  114106.000000 2018-05-02 05:00:00  \n",
       "2018-05-02 02:00:00-04:00  114103.888889 2018-05-02 06:00:00  \n",
       "2018-05-02 03:00:00-04:00  114101.777778 2018-05-02 07:00:00  \n",
       "2018-05-02 04:00:00-04:00  114099.666667 2018-05-02 08:00:00  \n",
       "...                                  ...                 ...  \n",
       "2020-08-13 13:00:00-04:00  475046.500000 2020-08-13 17:00:00  \n",
       "2020-08-13 14:00:00-04:00  475047.250000 2020-08-13 18:00:00  \n",
       "2020-08-13 15:00:00-04:00  475048.000000 2020-08-13 19:00:00  \n",
       "2020-08-13 16:00:00-04:00  475039.000000 2020-08-13 20:00:00  \n",
       "2020-08-13 17:00:00-04:00  475051.000000 2020-08-13 21:00:00  \n",
       "\n",
       "[20034 rows x 11 columns]"
      ]
     },
     "execution_count": 287,
     "metadata": {},
     "output_type": "execute_result"
    }
   ],
   "source": [
    "top_10_tickers"
   ]
  },
  {
   "cell_type": "code",
   "execution_count": 299,
   "metadata": {},
   "outputs": [],
   "source": [
    "top_10_user_df = pd.melt(top_10_tickers, ['timestamp'])"
   ]
  },
  {
   "cell_type": "code",
   "execution_count": 300,
   "metadata": {},
   "outputs": [
    {
     "data": {
      "text/html": [
       "<div>\n",
       "<style scoped>\n",
       "    .dataframe tbody tr th:only-of-type {\n",
       "        vertical-align: middle;\n",
       "    }\n",
       "\n",
       "    .dataframe tbody tr th {\n",
       "        vertical-align: top;\n",
       "    }\n",
       "\n",
       "    .dataframe thead th {\n",
       "        text-align: right;\n",
       "    }\n",
       "</style>\n",
       "<table border=\"1\" class=\"dataframe\">\n",
       "  <thead>\n",
       "    <tr style=\"text-align: right;\">\n",
       "      <th></th>\n",
       "      <th>timestamp</th>\n",
       "      <th>variable</th>\n",
       "      <th>value</th>\n",
       "    </tr>\n",
       "  </thead>\n",
       "  <tbody>\n",
       "    <tr>\n",
       "      <th>0</th>\n",
       "      <td>2018-05-02 04:00:00</td>\n",
       "      <td>F</td>\n",
       "      <td>131071.000000</td>\n",
       "    </tr>\n",
       "    <tr>\n",
       "      <th>1</th>\n",
       "      <td>2018-05-02 05:00:00</td>\n",
       "      <td>F</td>\n",
       "      <td>131071.000000</td>\n",
       "    </tr>\n",
       "    <tr>\n",
       "      <th>2</th>\n",
       "      <td>2018-05-02 06:00:00</td>\n",
       "      <td>F</td>\n",
       "      <td>131076.388889</td>\n",
       "    </tr>\n",
       "    <tr>\n",
       "      <th>3</th>\n",
       "      <td>2018-05-02 07:00:00</td>\n",
       "      <td>F</td>\n",
       "      <td>131081.777778</td>\n",
       "    </tr>\n",
       "    <tr>\n",
       "      <th>4</th>\n",
       "      <td>2018-05-02 08:00:00</td>\n",
       "      <td>F</td>\n",
       "      <td>131087.166667</td>\n",
       "    </tr>\n",
       "  </tbody>\n",
       "</table>\n",
       "</div>"
      ],
      "text/plain": [
       "            timestamp variable          value\n",
       "0 2018-05-02 04:00:00        F  131071.000000\n",
       "1 2018-05-02 05:00:00        F  131071.000000\n",
       "2 2018-05-02 06:00:00        F  131076.388889\n",
       "3 2018-05-02 07:00:00        F  131081.777778\n",
       "4 2018-05-02 08:00:00        F  131087.166667"
      ]
     },
     "execution_count": 300,
     "metadata": {},
     "output_type": "execute_result"
    }
   ],
   "source": [
    "top_10_user_df.head()"
   ]
  },
  {
   "cell_type": "code",
   "execution_count": 301,
   "metadata": {},
   "outputs": [],
   "source": [
    "top_10_user_df.rename(columns = {'variable': 'ticker', 'value': 'user_holding'}, inplace = True)"
   ]
  },
  {
   "cell_type": "code",
   "execution_count": 290,
   "metadata": {},
   "outputs": [],
   "source": [
    "top_10_sector = pd.DataFrame({'ticker': top_10_tickers.columns.values[:-1], 'sector': sector})"
   ]
  },
  {
   "cell_type": "code",
   "execution_count": 294,
   "metadata": {},
   "outputs": [],
   "source": [
    "top_10_sector.set_index('ticker', inplace = True)"
   ]
  },
  {
   "cell_type": "code",
   "execution_count": 302,
   "metadata": {},
   "outputs": [],
   "source": [
    "top_sector_dict = top_10_sector.to_dict()['sector']"
   ]
  },
  {
   "cell_type": "code",
   "execution_count": 305,
   "metadata": {},
   "outputs": [],
   "source": [
    "top_10_user_df['sector'] = top_10_user_df['ticker'].transform(lambda x: top_sector_dict[x])"
   ]
  },
  {
   "cell_type": "code",
   "execution_count": 306,
   "metadata": {},
   "outputs": [
    {
     "data": {
      "text/html": [
       "<div>\n",
       "<style scoped>\n",
       "    .dataframe tbody tr th:only-of-type {\n",
       "        vertical-align: middle;\n",
       "    }\n",
       "\n",
       "    .dataframe tbody tr th {\n",
       "        vertical-align: top;\n",
       "    }\n",
       "\n",
       "    .dataframe thead th {\n",
       "        text-align: right;\n",
       "    }\n",
       "</style>\n",
       "<table border=\"1\" class=\"dataframe\">\n",
       "  <thead>\n",
       "    <tr style=\"text-align: right;\">\n",
       "      <th></th>\n",
       "      <th>timestamp</th>\n",
       "      <th>ticker</th>\n",
       "      <th>user_holding</th>\n",
       "      <th>sector</th>\n",
       "    </tr>\n",
       "  </thead>\n",
       "  <tbody>\n",
       "    <tr>\n",
       "      <th>0</th>\n",
       "      <td>2018-05-02 04:00:00</td>\n",
       "      <td>F</td>\n",
       "      <td>131071.000000</td>\n",
       "      <td>Capital Goods</td>\n",
       "    </tr>\n",
       "    <tr>\n",
       "      <th>1</th>\n",
       "      <td>2018-05-02 05:00:00</td>\n",
       "      <td>F</td>\n",
       "      <td>131071.000000</td>\n",
       "      <td>Capital Goods</td>\n",
       "    </tr>\n",
       "    <tr>\n",
       "      <th>2</th>\n",
       "      <td>2018-05-02 06:00:00</td>\n",
       "      <td>F</td>\n",
       "      <td>131076.388889</td>\n",
       "      <td>Capital Goods</td>\n",
       "    </tr>\n",
       "    <tr>\n",
       "      <th>3</th>\n",
       "      <td>2018-05-02 07:00:00</td>\n",
       "      <td>F</td>\n",
       "      <td>131081.777778</td>\n",
       "      <td>Capital Goods</td>\n",
       "    </tr>\n",
       "    <tr>\n",
       "      <th>4</th>\n",
       "      <td>2018-05-02 08:00:00</td>\n",
       "      <td>F</td>\n",
       "      <td>131087.166667</td>\n",
       "      <td>Capital Goods</td>\n",
       "    </tr>\n",
       "  </tbody>\n",
       "</table>\n",
       "</div>"
      ],
      "text/plain": [
       "            timestamp ticker   user_holding         sector\n",
       "0 2018-05-02 04:00:00      F  131071.000000  Capital Goods\n",
       "1 2018-05-02 05:00:00      F  131071.000000  Capital Goods\n",
       "2 2018-05-02 06:00:00      F  131076.388889  Capital Goods\n",
       "3 2018-05-02 07:00:00      F  131081.777778  Capital Goods\n",
       "4 2018-05-02 08:00:00      F  131087.166667  Capital Goods"
      ]
     },
     "execution_count": 306,
     "metadata": {},
     "output_type": "execute_result"
    }
   ],
   "source": [
    "top_10_user_df.head()"
   ]
  },
  {
   "cell_type": "code",
   "execution_count": 313,
   "metadata": {},
   "outputs": [
    {
     "name": "stderr",
     "output_type": "stream",
     "text": [
      "/Users/leeyujin/Environments/research/lib/python3.7/site-packages/ipykernel_launcher.py:5: UserWarning: Creating legend with loc=\"best\" can be slow with large amounts of data.\n",
      "  \"\"\"\n",
      "/Users/leeyujin/Environments/research/lib/python3.7/site-packages/IPython/core/pylabtools.py:128: UserWarning: Creating legend with loc=\"best\" can be slow with large amounts of data.\n",
      "  fig.canvas.print_figure(bytes_io, **kw)\n"
     ]
    },
    {
     "data": {
      "image/png": "[encoded data removed]",
      "text/plain": [
       "<Figure size 1440x720 with 1 Axes>"
      ]
     },
     "metadata": {
      "needs_background": "light"
     },
     "output_type": "display_data"
    }
   ],
   "source": [
    "plt.figure(figsize = (20,10))\n",
    "sns.lineplot(x = 'timestamp', y = 'user_holding', hue = 'ticker', style = 'sector', data = top_10_user_df)\n",
    "plt.xticks(rotation = 90)\n",
    "plt.title(\"Growth of Top 10 Popular Stocks on Robinhood\")\n",
    "plt.savefig(cwd + \"/figures/top_10_robintrack.png\")"
   ]
  },
  {
   "cell_type": "code",
   "execution_count": null,
   "metadata": {},
   "outputs": [],
   "source": []
  }
 ],
 "metadata": {
  "kernelspec": {
   "display_name": "prediction",
   "language": "python",
   "name": "prediction"
  },
  "language_info": {
   "codemirror_mode": {
    "name": "ipython",
    "version": 3
   },
   "file_extension": ".py",
   "mimetype": "text/x-python",
   "name": "python",
   "nbconvert_exporter": "python",
   "pygments_lexer": "ipython3",
   "version": "3.7.5"
  }
 },
 "nbformat": 4,
 "nbformat_minor": 2
}
